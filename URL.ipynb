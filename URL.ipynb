{
 "cells": [
  {
   "cell_type": "markdown",
   "id": "1197a83a-18fe-4562-9a7f-0a063902f02a",
   "metadata": {
    "jp-MarkdownHeadingCollapsed": true
   },
   "source": [
    "# Загрузка датасета"
   ]
  },
  {
   "cell_type": "code",
   "execution_count": 32,
   "id": "5c19f2a4-4eb3-45c7-8e98-82a37253b66a",
   "metadata": {},
   "outputs": [
    {
     "name": "stdout",
     "output_type": "stream",
     "text": [
      "15000\n"
     ]
    },
    {
     "data": {
      "text/html": [
       "<div>\n",
       "<style scoped>\n",
       "    .dataframe tbody tr th:only-of-type {\n",
       "        vertical-align: middle;\n",
       "    }\n",
       "\n",
       "    .dataframe tbody tr th {\n",
       "        vertical-align: top;\n",
       "    }\n",
       "\n",
       "    .dataframe thead th {\n",
       "        text-align: right;\n",
       "    }\n",
       "</style>\n",
       "<table border=\"1\" class=\"dataframe\">\n",
       "  <thead>\n",
       "    <tr style=\"text-align: right;\">\n",
       "      <th></th>\n",
       "      <th>count</th>\n",
       "      <th>url</th>\n",
       "      <th>type</th>\n",
       "    </tr>\n",
       "  </thead>\n",
       "  <tbody>\n",
       "    <tr>\n",
       "      <th>0</th>\n",
       "      <td>0</td>\n",
       "      <td>br-icloud.com.br</td>\n",
       "      <td>phishing</td>\n",
       "    </tr>\n",
       "    <tr>\n",
       "      <th>1</th>\n",
       "      <td>1</td>\n",
       "      <td>mp3raid.com/music/krizz_kaliko.html</td>\n",
       "      <td>benign</td>\n",
       "    </tr>\n",
       "    <tr>\n",
       "      <th>2</th>\n",
       "      <td>2</td>\n",
       "      <td>bopsecrets.org/rexroth/cr/1.htm</td>\n",
       "      <td>benign</td>\n",
       "    </tr>\n",
       "    <tr>\n",
       "      <th>3</th>\n",
       "      <td>3</td>\n",
       "      <td>http://www.garage-pirenne.be/index.php?option=...</td>\n",
       "      <td>defacement</td>\n",
       "    </tr>\n",
       "    <tr>\n",
       "      <th>4</th>\n",
       "      <td>4</td>\n",
       "      <td>http://adventure-nicaragua.net/index.php?optio...</td>\n",
       "      <td>defacement</td>\n",
       "    </tr>\n",
       "    <tr>\n",
       "      <th>...</th>\n",
       "      <td>...</td>\n",
       "      <td>...</td>\n",
       "      <td>...</td>\n",
       "    </tr>\n",
       "    <tr>\n",
       "      <th>14995</th>\n",
       "      <td>14995</td>\n",
       "      <td>fortdefianceind.com/</td>\n",
       "      <td>benign</td>\n",
       "    </tr>\n",
       "    <tr>\n",
       "      <th>14996</th>\n",
       "      <td>14996</td>\n",
       "      <td>bookrags.com/lens/go.php?u=Hannah_Webster_Foster</td>\n",
       "      <td>benign</td>\n",
       "    </tr>\n",
       "    <tr>\n",
       "      <th>14997</th>\n",
       "      <td>14997</td>\n",
       "      <td>burbankairport.com/parking/buses-trains.html</td>\n",
       "      <td>benign</td>\n",
       "    </tr>\n",
       "    <tr>\n",
       "      <th>14998</th>\n",
       "      <td>14998</td>\n",
       "      <td>http://otomoto.pl/oferta/subaru-outback-legacy...</td>\n",
       "      <td>benign</td>\n",
       "    </tr>\n",
       "    <tr>\n",
       "      <th>14999</th>\n",
       "      <td>14999</td>\n",
       "      <td>sfmuseum.org/hist2/bbridge.html</td>\n",
       "      <td>benign</td>\n",
       "    </tr>\n",
       "  </tbody>\n",
       "</table>\n",
       "<p>15000 rows × 3 columns</p>\n",
       "</div>"
      ],
      "text/plain": [
       "       count                                                url        type\n",
       "0          0                                   br-icloud.com.br    phishing\n",
       "1          1                mp3raid.com/music/krizz_kaliko.html      benign\n",
       "2          2                    bopsecrets.org/rexroth/cr/1.htm      benign\n",
       "3          3  http://www.garage-pirenne.be/index.php?option=...  defacement\n",
       "4          4  http://adventure-nicaragua.net/index.php?optio...  defacement\n",
       "...      ...                                                ...         ...\n",
       "14995  14995                               fortdefianceind.com/      benign\n",
       "14996  14996   bookrags.com/lens/go.php?u=Hannah_Webster_Foster      benign\n",
       "14997  14997       burbankairport.com/parking/buses-trains.html      benign\n",
       "14998  14998  http://otomoto.pl/oferta/subaru-outback-legacy...      benign\n",
       "14999  14999                    sfmuseum.org/hist2/bbridge.html      benign\n",
       "\n",
       "[15000 rows x 3 columns]"
      ]
     },
     "execution_count": 32,
     "metadata": {},
     "output_type": "execute_result"
    }
   ],
   "source": [
    "import pandas as pd\n",
    "\n",
    "df = pd.read_csv(\"Malicious-URLs.csv\")\n",
    "urls = df[\"url\"].values\n",
    "print(len(urls))\n",
    "\n",
    "df"
   ]
  },
  {
   "cell_type": "code",
   "execution_count": 33,
   "id": "3f2195c1-b4bf-45c2-a5a2-f2e9571114c9",
   "metadata": {},
   "outputs": [
    {
     "data": {
      "text/plain": [
       "<bound method DataFrame.info of        count                                                url        type\n",
       "0          0                                   br-icloud.com.br    phishing\n",
       "1          1                mp3raid.com/music/krizz_kaliko.html      benign\n",
       "2          2                    bopsecrets.org/rexroth/cr/1.htm      benign\n",
       "3          3  http://www.garage-pirenne.be/index.php?option=...  defacement\n",
       "4          4  http://adventure-nicaragua.net/index.php?optio...  defacement\n",
       "...      ...                                                ...         ...\n",
       "14995  14995                               fortdefianceind.com/      benign\n",
       "14996  14996   bookrags.com/lens/go.php?u=Hannah_Webster_Foster      benign\n",
       "14997  14997       burbankairport.com/parking/buses-trains.html      benign\n",
       "14998  14998  http://otomoto.pl/oferta/subaru-outback-legacy...      benign\n",
       "14999  14999                    sfmuseum.org/hist2/bbridge.html      benign\n",
       "\n",
       "[15000 rows x 3 columns]>"
      ]
     },
     "execution_count": 33,
     "metadata": {},
     "output_type": "execute_result"
    }
   ],
   "source": [
    "df.info"
   ]
  },
  {
   "cell_type": "code",
   "execution_count": 34,
   "id": "a5663460-9552-4e03-95d7-051e8a2ab6b1",
   "metadata": {},
   "outputs": [
    {
     "data": {
      "text/html": [
       "<div>\n",
       "<style scoped>\n",
       "    .dataframe tbody tr th:only-of-type {\n",
       "        vertical-align: middle;\n",
       "    }\n",
       "\n",
       "    .dataframe tbody tr th {\n",
       "        vertical-align: top;\n",
       "    }\n",
       "\n",
       "    .dataframe thead th {\n",
       "        text-align: right;\n",
       "    }\n",
       "</style>\n",
       "<table border=\"1\" class=\"dataframe\">\n",
       "  <thead>\n",
       "    <tr style=\"text-align: right;\">\n",
       "      <th></th>\n",
       "      <th>count</th>\n",
       "    </tr>\n",
       "  </thead>\n",
       "  <tbody>\n",
       "    <tr>\n",
       "      <th>count</th>\n",
       "      <td>15000.000000</td>\n",
       "    </tr>\n",
       "    <tr>\n",
       "      <th>mean</th>\n",
       "      <td>7499.500000</td>\n",
       "    </tr>\n",
       "    <tr>\n",
       "      <th>std</th>\n",
       "      <td>4330.271354</td>\n",
       "    </tr>\n",
       "    <tr>\n",
       "      <th>min</th>\n",
       "      <td>0.000000</td>\n",
       "    </tr>\n",
       "    <tr>\n",
       "      <th>25%</th>\n",
       "      <td>3749.750000</td>\n",
       "    </tr>\n",
       "    <tr>\n",
       "      <th>50%</th>\n",
       "      <td>7499.500000</td>\n",
       "    </tr>\n",
       "    <tr>\n",
       "      <th>75%</th>\n",
       "      <td>11249.250000</td>\n",
       "    </tr>\n",
       "    <tr>\n",
       "      <th>max</th>\n",
       "      <td>14999.000000</td>\n",
       "    </tr>\n",
       "  </tbody>\n",
       "</table>\n",
       "</div>"
      ],
      "text/plain": [
       "              count\n",
       "count  15000.000000\n",
       "mean    7499.500000\n",
       "std     4330.271354\n",
       "min        0.000000\n",
       "25%     3749.750000\n",
       "50%     7499.500000\n",
       "75%    11249.250000\n",
       "max    14999.000000"
      ]
     },
     "execution_count": 34,
     "metadata": {},
     "output_type": "execute_result"
    }
   ],
   "source": [
    "df.describe()"
   ]
  },
  {
   "cell_type": "code",
   "execution_count": 35,
   "id": "c5917a66-5046-4fda-93e5-fc22bf137a6c",
   "metadata": {},
   "outputs": [
    {
     "data": {
      "text/html": [
       "<div>\n",
       "<style scoped>\n",
       "    .dataframe tbody tr th:only-of-type {\n",
       "        vertical-align: middle;\n",
       "    }\n",
       "\n",
       "    .dataframe tbody tr th {\n",
       "        vertical-align: top;\n",
       "    }\n",
       "\n",
       "    .dataframe thead th {\n",
       "        text-align: right;\n",
       "    }\n",
       "</style>\n",
       "<table border=\"1\" class=\"dataframe\">\n",
       "  <thead>\n",
       "    <tr style=\"text-align: right;\">\n",
       "      <th></th>\n",
       "      <th>count</th>\n",
       "      <th>url</th>\n",
       "      <th>type</th>\n",
       "    </tr>\n",
       "  </thead>\n",
       "  <tbody>\n",
       "    <tr>\n",
       "      <th>0</th>\n",
       "      <td>0</td>\n",
       "      <td>br-icloud.com.br</td>\n",
       "      <td>phishing</td>\n",
       "    </tr>\n",
       "    <tr>\n",
       "      <th>1</th>\n",
       "      <td>1</td>\n",
       "      <td>mp3raid.com/music/krizz_kaliko.html</td>\n",
       "      <td>benign</td>\n",
       "    </tr>\n",
       "    <tr>\n",
       "      <th>2</th>\n",
       "      <td>2</td>\n",
       "      <td>bopsecrets.org/rexroth/cr/1.htm</td>\n",
       "      <td>benign</td>\n",
       "    </tr>\n",
       "    <tr>\n",
       "      <th>3</th>\n",
       "      <td>3</td>\n",
       "      <td>http://www.garage-pirenne.be/index.php?option=...</td>\n",
       "      <td>defacement</td>\n",
       "    </tr>\n",
       "    <tr>\n",
       "      <th>4</th>\n",
       "      <td>4</td>\n",
       "      <td>http://adventure-nicaragua.net/index.php?optio...</td>\n",
       "      <td>defacement</td>\n",
       "    </tr>\n",
       "    <tr>\n",
       "      <th>5</th>\n",
       "      <td>5</td>\n",
       "      <td>http://buzzfil.net/m/show-art/ils-etaient-loin...</td>\n",
       "      <td>benign</td>\n",
       "    </tr>\n",
       "    <tr>\n",
       "      <th>6</th>\n",
       "      <td>6</td>\n",
       "      <td>espn.go.com/nba/player/_/id/3457/brandon-rush</td>\n",
       "      <td>benign</td>\n",
       "    </tr>\n",
       "    <tr>\n",
       "      <th>7</th>\n",
       "      <td>7</td>\n",
       "      <td>yourbittorrent.com/?q=anthony-hamilton-soulife</td>\n",
       "      <td>benign</td>\n",
       "    </tr>\n",
       "    <tr>\n",
       "      <th>8</th>\n",
       "      <td>8</td>\n",
       "      <td>http://www.pashminaonline.com/pure-pashminas</td>\n",
       "      <td>defacement</td>\n",
       "    </tr>\n",
       "    <tr>\n",
       "      <th>9</th>\n",
       "      <td>9</td>\n",
       "      <td>allmusic.com/album/crazy-from-the-heat-r16990</td>\n",
       "      <td>benign</td>\n",
       "    </tr>\n",
       "  </tbody>\n",
       "</table>\n",
       "</div>"
      ],
      "text/plain": [
       "   count                                                url        type\n",
       "0      0                                   br-icloud.com.br    phishing\n",
       "1      1                mp3raid.com/music/krizz_kaliko.html      benign\n",
       "2      2                    bopsecrets.org/rexroth/cr/1.htm      benign\n",
       "3      3  http://www.garage-pirenne.be/index.php?option=...  defacement\n",
       "4      4  http://adventure-nicaragua.net/index.php?optio...  defacement\n",
       "5      5  http://buzzfil.net/m/show-art/ils-etaient-loin...      benign\n",
       "6      6      espn.go.com/nba/player/_/id/3457/brandon-rush      benign\n",
       "7      7     yourbittorrent.com/?q=anthony-hamilton-soulife      benign\n",
       "8      8       http://www.pashminaonline.com/pure-pashminas  defacement\n",
       "9      9      allmusic.com/album/crazy-from-the-heat-r16990      benign"
      ]
     },
     "execution_count": 35,
     "metadata": {},
     "output_type": "execute_result"
    }
   ],
   "source": [
    "df.head(10)"
   ]
  },
  {
   "cell_type": "code",
   "execution_count": 36,
   "id": "9e14a9b8-22f4-43b4-a8db-d52a1ca82cad",
   "metadata": {},
   "outputs": [
    {
     "data": {
      "text/plain": [
       "count    0\n",
       "url      0\n",
       "type     0\n",
       "dtype: int64"
      ]
     },
     "execution_count": 36,
     "metadata": {},
     "output_type": "execute_result"
    }
   ],
   "source": [
    "df.isnull().sum()"
   ]
  },
  {
   "cell_type": "code",
   "execution_count": 41,
   "id": "99593b74-d18b-4c8b-b4c1-bc662131f616",
   "metadata": {},
   "outputs": [],
   "source": [
    "import seaborn as sns"
   ]
  },
  {
   "cell_type": "code",
   "execution_count": 42,
   "id": "90174baa-e30a-4dd7-a14b-0404beac6a98",
   "metadata": {},
   "outputs": [
    {
     "data": {
      "text/plain": [
       "type\n",
       "benign        10991\n",
       "defacement     2729\n",
       "phishing        912\n",
       "malware         368\n",
       "Name: count, dtype: int64"
      ]
     },
     "execution_count": 42,
     "metadata": {},
     "output_type": "execute_result"
    }
   ],
   "source": [
    "count = df.type.value_counts()\n",
    "count"
   ]
  },
  {
   "cell_type": "code",
   "execution_count": 43,
   "id": "a4f54145-6159-40bf-a700-8e1536179f15",
   "metadata": {},
   "outputs": [
    {
     "name": "stderr",
     "output_type": "stream",
     "text": [
      "C:\\Users\\Admin\\AppData\\Local\\Temp\\ipykernel_11068\\805402128.py:2: FutureWarning: \n",
      "\n",
      "Passing `palette` without assigning `hue` is deprecated and will be removed in v0.14.0. Assign the `x` variable to `hue` and set `legend=False` for the same effect.\n",
      "\n",
      "  sns.barplot(x=count.index, y=count, palette='bright')\n"
     ]
    },
    {
     "data": {
      "image/png": "[encoded data removed]",
      "text/plain": [
       "<Figure size 640x480 with 1 Axes>"
      ]
     },
     "metadata": {},
     "output_type": "display_data"
    }
   ],
   "source": [
    "import matplotlib.pyplot as plt\n",
    "sns.barplot(x=count.index, y=count, palette='bright')\n",
    "plt.xlabel('type')\n",
    "plt.ylabel('count');"
   ]
  },
  {
   "cell_type": "code",
   "execution_count": null,
   "id": "24c6af7e-1c26-4662-8cfc-d50def18c585",
   "metadata": {},
   "outputs": [],
   "source": []
  },
  {
   "cell_type": "markdown",
   "id": "1879cb0c-8011-488d-bfa5-057f3efc8a41",
   "metadata": {
    "jp-MarkdownHeadingCollapsed": true
   },
   "source": [
    "# Предобработка данных "
   ]
  },
  {
   "cell_type": "markdown",
   "id": "4e3b60ae-9e49-4017-9e20-d88ca6f4c796",
   "metadata": {},
   "source": [
    "## удаляем дубликаты"
   ]
  },
  {
   "cell_type": "code",
   "execution_count": 20,
   "id": "180b26b4-ae34-4dea-876a-e4594f94781f",
   "metadata": {},
   "outputs": [
    {
     "data": {
      "text/html": [
       "<div>\n",
       "<style scoped>\n",
       "    .dataframe tbody tr th:only-of-type {\n",
       "        vertical-align: middle;\n",
       "    }\n",
       "\n",
       "    .dataframe tbody tr th {\n",
       "        vertical-align: top;\n",
       "    }\n",
       "\n",
       "    .dataframe thead th {\n",
       "        text-align: right;\n",
       "    }\n",
       "</style>\n",
       "<table border=\"1\" class=\"dataframe\">\n",
       "  <thead>\n",
       "    <tr style=\"text-align: right;\">\n",
       "      <th></th>\n",
       "      <th>Unnamed: 0</th>\n",
       "      <th>url</th>\n",
       "      <th>type</th>\n",
       "    </tr>\n",
       "  </thead>\n",
       "  <tbody>\n",
       "    <tr>\n",
       "      <th>0</th>\n",
       "      <td>0</td>\n",
       "      <td>br-icloud.com.br</td>\n",
       "      <td>phishing</td>\n",
       "    </tr>\n",
       "    <tr>\n",
       "      <th>1</th>\n",
       "      <td>1</td>\n",
       "      <td>mp3raid.com/music/krizz_kaliko.html</td>\n",
       "      <td>benign</td>\n",
       "    </tr>\n",
       "    <tr>\n",
       "      <th>2</th>\n",
       "      <td>2</td>\n",
       "      <td>bopsecrets.org/rexroth/cr/1.htm</td>\n",
       "      <td>benign</td>\n",
       "    </tr>\n",
       "    <tr>\n",
       "      <th>3</th>\n",
       "      <td>3</td>\n",
       "      <td>http://www.garage-pirenne.be/index.php?option=...</td>\n",
       "      <td>defacement</td>\n",
       "    </tr>\n",
       "    <tr>\n",
       "      <th>4</th>\n",
       "      <td>4</td>\n",
       "      <td>http://adventure-nicaragua.net/index.php?optio...</td>\n",
       "      <td>defacement</td>\n",
       "    </tr>\n",
       "    <tr>\n",
       "      <th>...</th>\n",
       "      <td>...</td>\n",
       "      <td>...</td>\n",
       "      <td>...</td>\n",
       "    </tr>\n",
       "    <tr>\n",
       "      <th>14995</th>\n",
       "      <td>14995</td>\n",
       "      <td>fortdefianceind.com/</td>\n",
       "      <td>benign</td>\n",
       "    </tr>\n",
       "    <tr>\n",
       "      <th>14996</th>\n",
       "      <td>14996</td>\n",
       "      <td>bookrags.com/lens/go.php?u=Hannah_Webster_Foster</td>\n",
       "      <td>benign</td>\n",
       "    </tr>\n",
       "    <tr>\n",
       "      <th>14997</th>\n",
       "      <td>14997</td>\n",
       "      <td>burbankairport.com/parking/buses-trains.html</td>\n",
       "      <td>benign</td>\n",
       "    </tr>\n",
       "    <tr>\n",
       "      <th>14998</th>\n",
       "      <td>14998</td>\n",
       "      <td>http://otomoto.pl/oferta/subaru-outback-legacy...</td>\n",
       "      <td>benign</td>\n",
       "    </tr>\n",
       "    <tr>\n",
       "      <th>14999</th>\n",
       "      <td>14999</td>\n",
       "      <td>sfmuseum.org/hist2/bbridge.html</td>\n",
       "      <td>benign</td>\n",
       "    </tr>\n",
       "  </tbody>\n",
       "</table>\n",
       "<p>14933 rows × 3 columns</p>\n",
       "</div>"
      ],
      "text/plain": [
       "       Unnamed: 0                                                url  \\\n",
       "0               0                                   br-icloud.com.br   \n",
       "1               1                mp3raid.com/music/krizz_kaliko.html   \n",
       "2               2                    bopsecrets.org/rexroth/cr/1.htm   \n",
       "3               3  http://www.garage-pirenne.be/index.php?option=...   \n",
       "4               4  http://adventure-nicaragua.net/index.php?optio...   \n",
       "...           ...                                                ...   \n",
       "14995       14995                               fortdefianceind.com/   \n",
       "14996       14996   bookrags.com/lens/go.php?u=Hannah_Webster_Foster   \n",
       "14997       14997       burbankairport.com/parking/buses-trains.html   \n",
       "14998       14998  http://otomoto.pl/oferta/subaru-outback-legacy...   \n",
       "14999       14999                    sfmuseum.org/hist2/bbridge.html   \n",
       "\n",
       "             type  \n",
       "0        phishing  \n",
       "1          benign  \n",
       "2          benign  \n",
       "3      defacement  \n",
       "4      defacement  \n",
       "...           ...  \n",
       "14995      benign  \n",
       "14996      benign  \n",
       "14997      benign  \n",
       "14998      benign  \n",
       "14999      benign  \n",
       "\n",
       "[14933 rows x 3 columns]"
      ]
     },
     "execution_count": 20,
     "metadata": {},
     "output_type": "execute_result"
    }
   ],
   "source": [
    "df = df.drop_duplicates(subset=\"url\")\n",
    "df"
   ]
  },
  {
   "cell_type": "markdown",
   "id": "c21a3c0b-5182-4cc9-9c53-b880e2d39202",
   "metadata": {},
   "source": [
    "## нормализуем URL"
   ]
  },
  {
   "cell_type": "code",
   "execution_count": 24,
   "id": "6b7db4ea-f2b5-466b-8132-1b35500725ff",
   "metadata": {},
   "outputs": [
    {
     "name": "stderr",
     "output_type": "stream",
     "text": [
      "C:\\Users\\Admin\\AppData\\Local\\Temp\\ipykernel_18368\\4216137420.py:1: SettingWithCopyWarning: \n",
      "A value is trying to be set on a copy of a slice from a DataFrame.\n",
      "Try using .loc[row_indexer,col_indexer] = value instead\n",
      "\n",
      "See the caveats in the documentation: https://pandas.pydata.org/pandas-docs/stable/user_guide/indexing.html#returning-a-view-versus-a-copy\n",
      "  df[\"url\"] = df[\"url\"].str.lower()\n"
     ]
    },
    {
     "data": {
      "text/html": [
       "<div>\n",
       "<style scoped>\n",
       "    .dataframe tbody tr th:only-of-type {\n",
       "        vertical-align: middle;\n",
       "    }\n",
       "\n",
       "    .dataframe tbody tr th {\n",
       "        vertical-align: top;\n",
       "    }\n",
       "\n",
       "    .dataframe thead th {\n",
       "        text-align: right;\n",
       "    }\n",
       "</style>\n",
       "<table border=\"1\" class=\"dataframe\">\n",
       "  <thead>\n",
       "    <tr style=\"text-align: right;\">\n",
       "      <th></th>\n",
       "      <th>Unnamed: 0</th>\n",
       "      <th>url</th>\n",
       "      <th>type</th>\n",
       "    </tr>\n",
       "  </thead>\n",
       "  <tbody>\n",
       "    <tr>\n",
       "      <th>0</th>\n",
       "      <td>0</td>\n",
       "      <td>br-icloud.com.br</td>\n",
       "      <td>phishing</td>\n",
       "    </tr>\n",
       "    <tr>\n",
       "      <th>1</th>\n",
       "      <td>1</td>\n",
       "      <td>mp3raid.com/music/krizz_kaliko.html</td>\n",
       "      <td>benign</td>\n",
       "    </tr>\n",
       "    <tr>\n",
       "      <th>2</th>\n",
       "      <td>2</td>\n",
       "      <td>bopsecrets.org/rexroth/cr/1.htm</td>\n",
       "      <td>benign</td>\n",
       "    </tr>\n",
       "    <tr>\n",
       "      <th>3</th>\n",
       "      <td>3</td>\n",
       "      <td>http://www.garage-pirenne.be/index.php?option=...</td>\n",
       "      <td>defacement</td>\n",
       "    </tr>\n",
       "    <tr>\n",
       "      <th>4</th>\n",
       "      <td>4</td>\n",
       "      <td>http://adventure-nicaragua.net/index.php?optio...</td>\n",
       "      <td>defacement</td>\n",
       "    </tr>\n",
       "    <tr>\n",
       "      <th>...</th>\n",
       "      <td>...</td>\n",
       "      <td>...</td>\n",
       "      <td>...</td>\n",
       "    </tr>\n",
       "    <tr>\n",
       "      <th>14995</th>\n",
       "      <td>14995</td>\n",
       "      <td>fortdefianceind.com/</td>\n",
       "      <td>benign</td>\n",
       "    </tr>\n",
       "    <tr>\n",
       "      <th>14996</th>\n",
       "      <td>14996</td>\n",
       "      <td>bookrags.com/lens/go.php?u=hannah_webster_foster</td>\n",
       "      <td>benign</td>\n",
       "    </tr>\n",
       "    <tr>\n",
       "      <th>14997</th>\n",
       "      <td>14997</td>\n",
       "      <td>burbankairport.com/parking/buses-trains.html</td>\n",
       "      <td>benign</td>\n",
       "    </tr>\n",
       "    <tr>\n",
       "      <th>14998</th>\n",
       "      <td>14998</td>\n",
       "      <td>http://otomoto.pl/oferta/subaru-outback-legacy...</td>\n",
       "      <td>benign</td>\n",
       "    </tr>\n",
       "    <tr>\n",
       "      <th>14999</th>\n",
       "      <td>14999</td>\n",
       "      <td>sfmuseum.org/hist2/bbridge.html</td>\n",
       "      <td>benign</td>\n",
       "    </tr>\n",
       "  </tbody>\n",
       "</table>\n",
       "<p>14933 rows × 3 columns</p>\n",
       "</div>"
      ],
      "text/plain": [
       "       Unnamed: 0                                                url  \\\n",
       "0               0                                   br-icloud.com.br   \n",
       "1               1                mp3raid.com/music/krizz_kaliko.html   \n",
       "2               2                    bopsecrets.org/rexroth/cr/1.htm   \n",
       "3               3  http://www.garage-pirenne.be/index.php?option=...   \n",
       "4               4  http://adventure-nicaragua.net/index.php?optio...   \n",
       "...           ...                                                ...   \n",
       "14995       14995                               fortdefianceind.com/   \n",
       "14996       14996   bookrags.com/lens/go.php?u=hannah_webster_foster   \n",
       "14997       14997       burbankairport.com/parking/buses-trains.html   \n",
       "14998       14998  http://otomoto.pl/oferta/subaru-outback-legacy...   \n",
       "14999       14999                    sfmuseum.org/hist2/bbridge.html   \n",
       "\n",
       "             type  \n",
       "0        phishing  \n",
       "1          benign  \n",
       "2          benign  \n",
       "3      defacement  \n",
       "4      defacement  \n",
       "...           ...  \n",
       "14995      benign  \n",
       "14996      benign  \n",
       "14997      benign  \n",
       "14998      benign  \n",
       "14999      benign  \n",
       "\n",
       "[14933 rows x 3 columns]"
      ]
     },
     "execution_count": 24,
     "metadata": {},
     "output_type": "execute_result"
    }
   ],
   "source": [
    "df[\"url\"] = df[\"url\"].str.lower()\n",
    "df"
   ]
  },
  {
   "cell_type": "code",
   "execution_count": 27,
   "id": "b2ce5d1a-a913-4373-83e7-389b8d3a604f",
   "metadata": {},
   "outputs": [],
   "source": [
    "import tldextract\n",
    "from urllib.parse import urlparse\n",
    "\n",
    "def extract_features(url):\n",
    "    features = {}\n",
    "    \n",
    "    features[\"length\"] = len(url)\n",
    "    features[\"num_special_chars\"] = sum(1 for c in url if c in ['@', '//', '%']) # это лексические признаки\n",
    "    \n",
    "    ext = tldextract.extract(url)\n",
    "    features[\"subdomain_count\"] = len(ext.subdomain.split('.')) if ext.subdomain else 0\n",
    "    features[\"has_ip\"] = 1 if any(part.isdigit() for part in ext.domain.split('.')) else 0 # это разбор домена\n",
    "    \n",
    "    keywords = ['login', 'admin', 'exe', 'php', 'config']\n",
    "    features[\"keyword_count\"] = sum(1 for kw in keywords if kw in url) # это сематика\n",
    "    \n",
    "    return features\n",
    "\n",
    "features = df[\"url\"].apply(extract_features)\n",
    "features_df = pd.DataFrame(features.tolist())"
   ]
  },
  {
   "cell_type": "markdown",
   "id": "cde6099d-838d-48c9-a11b-fc2652d61956",
   "metadata": {},
   "source": [
    "## токенизация и векторизация"
   ]
  },
  {
   "cell_type": "code",
   "execution_count": null,
   "id": "ffa835dd-5559-42ba-b627-9b13756c60b2",
   "metadata": {},
   "outputs": [],
   "source": []
  },
  {
   "cell_type": "code",
   "execution_count": null,
   "id": "b9400925-3cb1-40e4-995a-84b924a052b8",
   "metadata": {},
   "outputs": [],
   "source": []
  }
 ],
 "metadata": {
  "kernelspec": {
   "display_name": "Python 3 (ipykernel)",
   "language": "python",
   "name": "python3"
  },
  "language_info": {
   "codemirror_mode": {
    "name": "ipython",
    "version": 3
   },
   "file_extension": ".py",
   "mimetype": "text/x-python",
   "name": "python",
   "nbconvert_exporter": "python",
   "pygments_lexer": "ipython3",
   "version": "3.13.0"
  }
 },
 "nbformat": 4,
 "nbformat_minor": 5
}
