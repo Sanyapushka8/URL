{
 "cells": [
  {
   "cell_type": "code",
   "execution_count": 4,
   "id": "ef7eb605-0f99-45e0-bf8e-aa9fb0b63e44",
   "metadata": {},
   "outputs": [],
   "source": [
    "import pandas as pd\n",
    "import numpy as np\n",
    "from sklearn.ensemble import RandomForestClassifier, VotingClassifier\n",
    "from xgboost import XGBClassifier\n",
    "from lightgbm import LGBMClassifier\n",
    "from sklearn.model_selection import train_test_split\n",
    "from sklearn.metrics import classification_report, roc_auc_score\n",
    "from sklearn.preprocessing import StandardScaler\n",
    "from sklearn.utils.class_weight import compute_class_weight\n",
    "import tldextract\n",
    "import matplotlib.pyplot as plt\n",
    "import warnings\n",
    "warnings.filterwarnings(\"ignore\")"
   ]
  },
  {
   "cell_type": "code",
   "execution_count": 5,
   "id": "11e1b212-da67-4a37-8bc3-22722ef44fe0",
   "metadata": {},
   "outputs": [
    {
     "name": "stdout",
     "output_type": "stream",
     "text": [
      "Распределение классов:\n",
      "label\n",
      "benign        10991\n",
      "defacement     2727\n",
      "phishing        912\n",
      "malware         303\n",
      "Name: count, dtype: int64\n"
     ]
    }
   ],
   "source": [
    "# Загрузка данных\n",
    "data = pd.read_csv(\"Malicious-URLs.csv\")\n",
    "\n",
    "# Удаление дубликатов и пропусков\n",
    "data = data.drop_duplicates(subset=\"url\").dropna()\n",
    "\n",
    "# Проверка баланса классов\n",
    "print(\"Распределение классов:\")\n",
    "print(data[\"label\"].value_counts())"
   ]
  },
  {
   "cell_type": "code",
   "execution_count": 6,
   "id": "c20fc020-280f-4d19-87ec-e75d48861376",
   "metadata": {},
   "outputs": [],
   "source": [
    "def extract_features(url):\n",
    "    features = {}\n",
    "    try:\n",
    "        # Лексические признаки\n",
    "        features[\"url_length\"] = len(url)\n",
    "        features[\"num_special_chars\"] = sum(url.count(c) for c in ['@', '%', '//', '?', '='])\n",
    "        \n",
    "        # Анализ домена\n",
    "        ext = tldextract.extract(url)\n",
    "        features[\"subdomain_count\"] = len(ext.subdomain.split('.')) if ext.subdomain else 0\n",
    "        features[\"domain_length\"] = len(ext.domain)\n",
    "        features[\"has_ip\"] = 1 if any(part.isdigit() for part in ext.domain.split('.')) else 0\n",
    "        \n",
    "        # Семантические признаки\n",
    "        keywords = ['login', 'admin', 'exe', 'php', 'config', 'secure']\n",
    "        features[\"keyword_count\"] = sum(1 for kw in keywords if kw in url)\n",
    "        return features\n",
    "    except Exception as e:\n",
    "        print(f\"Ошибка обработки URL {url}: {e}\")\n",
    "        return None\n",
    "\n",
    "# Применение функции\n",
    "features = data[\"url\"].apply(extract_features)\n",
    "valid_indices = features[features.notna()].index\n",
    "data = data.loc[valid_indices]\n",
    "features = features.loc[valid_indices]\n",
    "\n",
    "# Создание DataFrame с признаками\n",
    "features_df = pd.DataFrame(features.tolist())\n",
    "labels = data[\"label\"].values"
   ]
  },
  {
   "cell_type": "code",
   "execution_count": 17,
   "id": "0c4f46d4-7685-4161-9514-2d060405cf98",
   "metadata": {},
   "outputs": [
    {
     "ename": "TypeError",
     "evalue": "'dict' object is not callable",
     "output_type": "error",
     "traceback": [
      "\u001b[1;31m---------------------------------------------------------------------------\u001b[0m",
      "\u001b[1;31mTypeError\u001b[0m                                 Traceback (most recent call last)",
      "Cell \u001b[1;32mIn[17], line 7\u001b[0m\n\u001b[0;32m      4\u001b[0m class_weights_dict \u001b[38;5;241m=\u001b[39m {\u001b[38;5;28mcls\u001b[39m: weight \u001b[38;5;28;01mfor\u001b[39;00m \u001b[38;5;28mcls\u001b[39m, weight \u001b[38;5;129;01min\u001b[39;00m \u001b[38;5;28mzip\u001b[39m(classes, class_weights)}\n\u001b[0;32m      6\u001b[0m \u001b[38;5;66;03m# Для XGBoost и LightGBM\u001b[39;00m\n\u001b[1;32m----> 7\u001b[0m scale_pos_weight \u001b[38;5;241m=\u001b[39m \u001b[43mclass_weights_dict\u001b[49m\u001b[43m(\u001b[49m\u001b[38;5;241;43m1\u001b[39;49m\u001b[43m)\u001b[49m \u001b[38;5;241m/\u001b[39m class_weights_dict(\u001b[38;5;241m0\u001b[39m)\n",
      "\u001b[1;31mTypeError\u001b[0m: 'dict' object is not callable"
     ]
    }
   ],
   "source": [
    "# Расчет весов классов\n",
    "classes = np.unique(labels)\n",
    "class_weights = compute_class_weight(\"balanced\", classes=classes, y=labels)\n",
    "class_weights_dict = {cls: weight for cls, weight in zip(classes, class_weights)}\n",
    "\n",
    "# Для XGBoost и LightGBM\n",
    "scale_pos_weight = class_weights_dict[1] / class_weights_dict[0]"
   ]
  },
  {
   "cell_type": "code",
   "execution_count": 8,
   "id": "b82f6f1b-51a3-4813-afd7-9d440cd7cab2",
   "metadata": {},
   "outputs": [],
   "source": [
    "X_train, X_test, y_train, y_test = train_test_split(\n",
    "    features_df, \n",
    "    labels, \n",
    "    test_size=0.2, \n",
    "    stratify=labels, \n",
    "    random_state=42\n",
    ")"
   ]
  },
  {
   "cell_type": "code",
   "execution_count": 9,
   "id": "805bb6a5-8b4f-4ac9-bf01-0ac8fb114348",
   "metadata": {},
   "outputs": [
    {
     "ename": "NameError",
     "evalue": "name 'scale_pos_weight' is not defined",
     "output_type": "error",
     "traceback": [
      "\u001b[1;31m---------------------------------------------------------------------------\u001b[0m",
      "\u001b[1;31mNameError\u001b[0m                                 Traceback (most recent call last)",
      "Cell \u001b[1;32mIn[9], line 3\u001b[0m\n\u001b[0;32m      1\u001b[0m \u001b[38;5;66;03m# Инициализация моделей\u001b[39;00m\n\u001b[0;32m      2\u001b[0m xgb_model \u001b[38;5;241m=\u001b[39m XGBClassifier(\n\u001b[1;32m----> 3\u001b[0m     scale_pos_weight\u001b[38;5;241m=\u001b[39m\u001b[43mscale_pos_weight\u001b[49m,\n\u001b[0;32m      4\u001b[0m     learning_rate\u001b[38;5;241m=\u001b[39m\u001b[38;5;241m0.05\u001b[39m,\n\u001b[0;32m      5\u001b[0m     max_depth\u001b[38;5;241m=\u001b[39m\u001b[38;5;241m6\u001b[39m,\n\u001b[0;32m      6\u001b[0m     subsample\u001b[38;5;241m=\u001b[39m\u001b[38;5;241m0.8\u001b[39m,\n\u001b[0;32m      7\u001b[0m     random_state\u001b[38;5;241m=\u001b[39m\u001b[38;5;241m42\u001b[39m\n\u001b[0;32m      8\u001b[0m )\n\u001b[0;32m     10\u001b[0m rf_model \u001b[38;5;241m=\u001b[39m RandomForestClassifier(\n\u001b[0;32m     11\u001b[0m     class_weight\u001b[38;5;241m=\u001b[39mclass_weights_dict,\n\u001b[0;32m     12\u001b[0m     n_estimators\u001b[38;5;241m=\u001b[39m\u001b[38;5;241m100\u001b[39m,\n\u001b[0;32m     13\u001b[0m     max_depth\u001b[38;5;241m=\u001b[39m\u001b[38;5;241m10\u001b[39m,\n\u001b[0;32m     14\u001b[0m     random_state\u001b[38;5;241m=\u001b[39m\u001b[38;5;241m42\u001b[39m\n\u001b[0;32m     15\u001b[0m )\n\u001b[0;32m     17\u001b[0m lgbm_model \u001b[38;5;241m=\u001b[39m LGBMClassifier(\n\u001b[0;32m     18\u001b[0m     class_weight\u001b[38;5;241m=\u001b[39mclass_weights_dict,\n\u001b[0;32m     19\u001b[0m     learning_rate\u001b[38;5;241m=\u001b[39m\u001b[38;5;241m0.05\u001b[39m,\n\u001b[1;32m   (...)\u001b[0m\n\u001b[0;32m     22\u001b[0m     random_state\u001b[38;5;241m=\u001b[39m\u001b[38;5;241m42\u001b[39m\n\u001b[0;32m     23\u001b[0m )\n",
      "\u001b[1;31mNameError\u001b[0m: name 'scale_pos_weight' is not defined"
     ]
    }
   ],
   "source": [
    "# Инициализация моделей\n",
    "xgb_model = XGBClassifier(\n",
    "    scale_pos_weight=scale_pos_weight,\n",
    "    learning_rate=0.05,\n",
    "    max_depth=6,\n",
    "    subsample=0.8,\n",
    "    random_state=42\n",
    ")\n",
    "\n",
    "rf_model = RandomForestClassifier(\n",
    "    class_weight=class_weights_dict,\n",
    "    n_estimators=100,\n",
    "    max_depth=10,\n",
    "    random_state=42\n",
    ")\n",
    "\n",
    "lgbm_model = LGBMClassifier(\n",
    "    class_weight=class_weights_dict,\n",
    "    learning_rate=0.05,\n",
    "    max_depth=6,\n",
    "    subsample=0.8,\n",
    "    random_state=42\n",
    ")\n",
    "\n",
    "# Создание ансамбля (мягкое голосование)\n",
    "ensemble = VotingClassifier(\n",
    "    estimators=[\n",
    "        (\"xgb\", xgb_model),\n",
    "        (\"rf\", rf_model),\n",
    "        (\"lgbm\", lgbm_model)\n",
    "    ],\n",
    "    voting=\"soft\"  # Используем вероятности классов\n",
    ")\n",
    "\n",
    "# Обучение ансамбля\n",
    "ensemble.fit(X_train, y_train)"
   ]
  },
  {
   "cell_type": "code",
   "execution_count": 10,
   "id": "1933cd15-cf27-4642-8c3f-1974b5c38299",
   "metadata": {},
   "outputs": [
    {
     "ename": "NameError",
     "evalue": "name 'ensemble' is not defined",
     "output_type": "error",
     "traceback": [
      "\u001b[1;31m---------------------------------------------------------------------------\u001b[0m",
      "\u001b[1;31mNameError\u001b[0m                                 Traceback (most recent call last)",
      "Cell \u001b[1;32mIn[10], line 2\u001b[0m\n\u001b[0;32m      1\u001b[0m \u001b[38;5;66;03m# Предсказание\u001b[39;00m\n\u001b[1;32m----> 2\u001b[0m y_pred \u001b[38;5;241m=\u001b[39m \u001b[43mensemble\u001b[49m\u001b[38;5;241m.\u001b[39mpredict(X_test)\n\u001b[0;32m      3\u001b[0m y_proba \u001b[38;5;241m=\u001b[39m ensemble\u001b[38;5;241m.\u001b[39mpredict_proba(X_test)[:, \u001b[38;5;241m1\u001b[39m]  \u001b[38;5;66;03m# Вероятность класса 1\u001b[39;00m\n\u001b[0;32m      5\u001b[0m \u001b[38;5;66;03m# Метрики\u001b[39;00m\n",
      "\u001b[1;31mNameError\u001b[0m: name 'ensemble' is not defined"
     ]
    }
   ],
   "source": [
    "# Предсказание\n",
    "y_pred = ensemble.predict(X_test)\n",
    "y_proba = ensemble.predict_proba(X_test)[:, 1]  # Вероятность класса 1\n",
    "\n",
    "# Метрики\n",
    "print(\"\\nClassification Report:\")\n",
    "print(classification_report(y_test, y_pred))\n",
    "\n",
    "print(f\"\\nROC-AUC: {roc_auc_score(y_test, y_proba):.2f}\")\n",
    "\n",
    "# Важность признаков (на примере XGBoost)\n",
    "xgb_model.fit(X_train, y_train)  # Переобучаем XGBoost отдельно для анализа\n",
    "plt.figure(figsize=(10, 6))\n",
    "xgb.plot_importance(xgb_model, importance_type=\"gain\")\n",
    "plt.title(\"Важность признаков (XGBoost)\")\n",
    "plt.show()"
   ]
  },
  {
   "cell_type": "code",
   "execution_count": 11,
   "id": "ab687b22-9f74-4a9d-bdc3-25d8e9168e79",
   "metadata": {},
   "outputs": [
    {
     "ename": "NameError",
     "evalue": "name 'ensemble' is not defined",
     "output_type": "error",
     "traceback": [
      "\u001b[1;31m---------------------------------------------------------------------------\u001b[0m",
      "\u001b[1;31mNameError\u001b[0m                                 Traceback (most recent call last)",
      "Cell \u001b[1;32mIn[11], line 18\u001b[0m\n\u001b[0;32m     15\u001b[0m         \u001b[38;5;28;01mreturn\u001b[39;00m \u001b[38;5;124mf\u001b[39m\u001b[38;5;124m\"\u001b[39m\u001b[38;5;124mОшибка: \u001b[39m\u001b[38;5;132;01m{\u001b[39;00m\u001b[38;5;28mstr\u001b[39m(e)\u001b[38;5;132;01m}\u001b[39;00m\u001b[38;5;124m\"\u001b[39m\n\u001b[0;32m     17\u001b[0m \u001b[38;5;66;03m# Пример использования\u001b[39;00m\n\u001b[1;32m---> 18\u001b[0m \u001b[38;5;28mprint\u001b[39m(predict_url(\u001b[38;5;124m\"\u001b[39m\u001b[38;5;124mhttp://phishing.com\u001b[39m\u001b[38;5;124m\"\u001b[39m, \u001b[43mensemble\u001b[49m, threshold\u001b[38;5;241m=\u001b[39m\u001b[38;5;241m0.4\u001b[39m))  \u001b[38;5;66;03m# Вредоносный\u001b[39;00m\n\u001b[0;32m     19\u001b[0m \u001b[38;5;28mprint\u001b[39m(predict_url(\u001b[38;5;124m\"\u001b[39m\u001b[38;5;124mhttps://google.com\u001b[39m\u001b[38;5;124m\"\u001b[39m, ensemble))                   \u001b[38;5;66;03m# Доброкачественный\u001b[39;00m\n",
      "\u001b[1;31mNameError\u001b[0m: name 'ensemble' is not defined"
     ]
    }
   ],
   "source": [
    "def predict_url(url: str, model, threshold: float = 0.5) -> str:\n",
    "    try:\n",
    "        # Извлечение признаков\n",
    "        features = extract_features(url)\n",
    "        if not features:\n",
    "            return \"Ошибка извлечения признаков.\"\n",
    "        \n",
    "        # Преобразование в DataFrame\n",
    "        features_df = pd.DataFrame([features])\n",
    "        \n",
    "        # Предсказание\n",
    "        proba = model.predict_proba(features_df)[0][1]\n",
    "        return \"Вредоносный\" if proba > threshold else \"Доброкачественный\"\n",
    "    except Exception as e:\n",
    "        return f\"Ошибка: {str(e)}\"\n",
    "\n",
    "# Пример использования\n",
    "print(predict_url(\"http://phishing.com\", ensemble, threshold=0.4))  # Вредоносный\n",
    "print(predict_url(\"https://google.com\", ensemble))                   # Доброкачественный"
   ]
  },
  {
   "cell_type": "code",
   "execution_count": 12,
   "id": "133b3237-e631-4ba1-8e61-caae525639f8",
   "metadata": {},
   "outputs": [
    {
     "ename": "NameError",
     "evalue": "name 'y_proba' is not defined",
     "output_type": "error",
     "traceback": [
      "\u001b[1;31m---------------------------------------------------------------------------\u001b[0m",
      "\u001b[1;31mNameError\u001b[0m                                 Traceback (most recent call last)",
      "Cell \u001b[1;32mIn[12], line 4\u001b[0m\n\u001b[0;32m      1\u001b[0m \u001b[38;5;28;01mfrom\u001b[39;00m\u001b[38;5;250m \u001b[39m\u001b[38;5;21;01msklearn\u001b[39;00m\u001b[38;5;21;01m.\u001b[39;00m\u001b[38;5;21;01mmetrics\u001b[39;00m\u001b[38;5;250m \u001b[39m\u001b[38;5;28;01mimport\u001b[39;00m precision_recall_curve\n\u001b[0;32m      3\u001b[0m \u001b[38;5;66;03m# Поиск оптимального порога через Precision-Recall\u001b[39;00m\n\u001b[1;32m----> 4\u001b[0m precisions, recalls, thresholds \u001b[38;5;241m=\u001b[39m precision_recall_curve(y_test, \u001b[43my_proba\u001b[49m)\n\u001b[0;32m      5\u001b[0m best_threshold \u001b[38;5;241m=\u001b[39m thresholds[np\u001b[38;5;241m.\u001b[39margmax(precisions \u001b[38;5;241m>\u001b[39m\u001b[38;5;241m=\u001b[39m \u001b[38;5;241m0.9\u001b[39m)]  \u001b[38;5;66;03m# Порог для 90% точности\u001b[39;00m\n\u001b[0;32m      7\u001b[0m \u001b[38;5;28mprint\u001b[39m(\u001b[38;5;124mf\u001b[39m\u001b[38;5;124m\"\u001b[39m\u001b[38;5;130;01m\\n\u001b[39;00m\u001b[38;5;124mОптимальный порог: \u001b[39m\u001b[38;5;132;01m{\u001b[39;00mbest_threshold\u001b[38;5;132;01m:\u001b[39;00m\u001b[38;5;124m.2f\u001b[39m\u001b[38;5;132;01m}\u001b[39;00m\u001b[38;5;124m\"\u001b[39m)\n",
      "\u001b[1;31mNameError\u001b[0m: name 'y_proba' is not defined"
     ]
    }
   ],
   "source": [
    "from sklearn.metrics import precision_recall_curve\n",
    "\n",
    "# Поиск оптимального порога через Precision-Recall\n",
    "precisions, recalls, thresholds = precision_recall_curve(y_test, y_proba)\n",
    "best_threshold = thresholds[np.argmax(precisions >= 0.9)]  # Порог для 90% точности\n",
    "\n",
    "print(f\"\\nОптимальный порог: {best_threshold:.2f}\")"
   ]
  },
  {
   "cell_type": "code",
   "execution_count": null,
   "id": "0fbc37dd-3c3d-45f7-ab3f-990ecb600cf1",
   "metadata": {},
   "outputs": [],
   "source": []
  }
 ],
 "metadata": {
  "kernelspec": {
   "display_name": "Python 3 (ipykernel)",
   "language": "python",
   "name": "python3"
  },
  "language_info": {
   "codemirror_mode": {
    "name": "ipython",
    "version": 3
   },
   "file_extension": ".py",
   "mimetype": "text/x-python",
   "name": "python",
   "nbconvert_exporter": "python",
   "pygments_lexer": "ipython3",
   "version": "3.9.13"
  }
 },
 "nbformat": 4,
 "nbformat_minor": 5
}
