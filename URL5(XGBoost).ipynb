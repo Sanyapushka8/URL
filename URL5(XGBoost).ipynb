{
 "cells": [
  {
   "cell_type": "code",
   "execution_count": 82,
   "id": "1473512e-269a-4571-bd37-47fbd2c3c0ea",
   "metadata": {},
   "outputs": [],
   "source": [
    "import pandas as pd\n",
    "import numpy as np\n",
    "import xgboost as xgb\n",
    "from sklearn.model_selection import train_test_split\n",
    "from sklearn.metrics import classification_report, roc_auc_score\n",
    "from sklearn.preprocessing import StandardScaler\n",
    "from sklearn.utils.class_weight import compute_class_weight\n",
    "import tldextract\n",
    "import matplotlib.pyplot as plt\n",
    "import warnings\n",
    "warnings.filterwarnings(\"ignore\")"
   ]
  },
  {
   "cell_type": "code",
   "execution_count": 83,
   "id": "4b48072b-aa04-4d55-a53f-835310923abc",
   "metadata": {},
   "outputs": [
    {
     "name": "stdout",
     "output_type": "stream",
     "text": [
      "Распределение классов:\n",
      "label\n",
      "benign        10991\n",
      "defacement     2727\n",
      "phishing        912\n",
      "malware         303\n",
      "Name: count, dtype: int64\n"
     ]
    }
   ],
   "source": [
    "# Загрузка данных\n",
    "data = pd.read_csv(\"Malicious-URLs.csv\")\n",
    "\n",
    "# Удаление дубликатов и пустых значений\n",
    "data = data.drop_duplicates(subset=\"url\").dropna()\n",
    "\n",
    "# Проверка баланса классов\n",
    "print(\"Распределение классов:\")\n",
    "print(data[\"label\"].value_counts())"
   ]
  },
  {
   "cell_type": "code",
   "execution_count": 84,
   "id": "207d1e93-d939-4c58-bc03-b1db17bff0ef",
   "metadata": {},
   "outputs": [
    {
     "data": {
      "text/html": [
       "<div>\n",
       "<style scoped>\n",
       "    .dataframe tbody tr th:only-of-type {\n",
       "        vertical-align: middle;\n",
       "    }\n",
       "\n",
       "    .dataframe tbody tr th {\n",
       "        vertical-align: top;\n",
       "    }\n",
       "\n",
       "    .dataframe thead th {\n",
       "        text-align: right;\n",
       "    }\n",
       "</style>\n",
       "<table border=\"1\" class=\"dataframe\">\n",
       "  <thead>\n",
       "    <tr style=\"text-align: right;\">\n",
       "      <th></th>\n",
       "      <th>count</th>\n",
       "      <th>url</th>\n",
       "      <th>label</th>\n",
       "    </tr>\n",
       "  </thead>\n",
       "  <tbody>\n",
       "    <tr>\n",
       "      <th>0</th>\n",
       "      <td>0</td>\n",
       "      <td>br-icloud.com.br</td>\n",
       "      <td>1</td>\n",
       "    </tr>\n",
       "    <tr>\n",
       "      <th>1</th>\n",
       "      <td>1</td>\n",
       "      <td>mp3raid.com/music/krizz_kaliko.html</td>\n",
       "      <td>2</td>\n",
       "    </tr>\n",
       "    <tr>\n",
       "      <th>2</th>\n",
       "      <td>2</td>\n",
       "      <td>bopsecrets.org/rexroth/cr/1.htm</td>\n",
       "      <td>2</td>\n",
       "    </tr>\n",
       "    <tr>\n",
       "      <th>3</th>\n",
       "      <td>3</td>\n",
       "      <td>http://www.garage-pirenne.be/index.php?option=...</td>\n",
       "      <td>0</td>\n",
       "    </tr>\n",
       "    <tr>\n",
       "      <th>4</th>\n",
       "      <td>4</td>\n",
       "      <td>http://adventure-nicaragua.net/index.php?optio...</td>\n",
       "      <td>0</td>\n",
       "    </tr>\n",
       "    <tr>\n",
       "      <th>...</th>\n",
       "      <td>...</td>\n",
       "      <td>...</td>\n",
       "      <td>...</td>\n",
       "    </tr>\n",
       "    <tr>\n",
       "      <th>14995</th>\n",
       "      <td>14995</td>\n",
       "      <td>fortdefianceind.com/</td>\n",
       "      <td>2</td>\n",
       "    </tr>\n",
       "    <tr>\n",
       "      <th>14996</th>\n",
       "      <td>14996</td>\n",
       "      <td>bookrags.com/lens/go.php?u=Hannah_Webster_Foster</td>\n",
       "      <td>2</td>\n",
       "    </tr>\n",
       "    <tr>\n",
       "      <th>14997</th>\n",
       "      <td>14997</td>\n",
       "      <td>burbankairport.com/parking/buses-trains.html</td>\n",
       "      <td>2</td>\n",
       "    </tr>\n",
       "    <tr>\n",
       "      <th>14998</th>\n",
       "      <td>14998</td>\n",
       "      <td>http://otomoto.pl/oferta/subaru-outback-legacy...</td>\n",
       "      <td>2</td>\n",
       "    </tr>\n",
       "    <tr>\n",
       "      <th>14999</th>\n",
       "      <td>14999</td>\n",
       "      <td>sfmuseum.org/hist2/bbridge.html</td>\n",
       "      <td>2</td>\n",
       "    </tr>\n",
       "  </tbody>\n",
       "</table>\n",
       "<p>14933 rows × 3 columns</p>\n",
       "</div>"
      ],
      "text/plain": [
       "       count                                                url  label\n",
       "0          0                                   br-icloud.com.br      1\n",
       "1          1                mp3raid.com/music/krizz_kaliko.html      2\n",
       "2          2                    bopsecrets.org/rexroth/cr/1.htm      2\n",
       "3          3  http://www.garage-pirenne.be/index.php?option=...      0\n",
       "4          4  http://adventure-nicaragua.net/index.php?optio...      0\n",
       "...      ...                                                ...    ...\n",
       "14995  14995                               fortdefianceind.com/      2\n",
       "14996  14996   bookrags.com/lens/go.php?u=Hannah_Webster_Foster      2\n",
       "14997  14997       burbankairport.com/parking/buses-trains.html      2\n",
       "14998  14998  http://otomoto.pl/oferta/subaru-outback-legacy...      2\n",
       "14999  14999                    sfmuseum.org/hist2/bbridge.html      2\n",
       "\n",
       "[14933 rows x 3 columns]"
      ]
     },
     "execution_count": 84,
     "metadata": {},
     "output_type": "execute_result"
    }
   ],
   "source": [
    "data[\"label\"] = data[\"label\"].map({'defacement': 0, 'phishing': 1, 'benign': 2, 'malware': 3})\n",
    "data"
   ]
  },
  {
   "cell_type": "code",
   "execution_count": 85,
   "id": "21d3fd02-5264-4e2d-bb5e-8cc5c691d23b",
   "metadata": {},
   "outputs": [],
   "source": [
    "def extract_features(url):\n",
    "    features = {}\n",
    "    try:\n",
    "        # Лексические признаки\n",
    "        features[\"url_length\"] = len(url)\n",
    "        features[\"num_special_chars\"] = sum(url.count(c) for c in ['@', '%', '//', '?', '='])\n",
    "        \n",
    "        # Анализ домена\n",
    "        ext = tldextract.extract(url)\n",
    "        features[\"subdomain_count\"] = len(ext.subdomain.split('.')) if ext.subdomain else 0\n",
    "        features[\"domain_length\"] = len(ext.domain)\n",
    "        features[\"has_ip\"] = 1 if any(part.isdigit() for part in ext.domain.split('.')) else 0\n",
    "        \n",
    "        # Семантические признаки\n",
    "        keywords = ['login', 'admin', 'exe', 'php', 'config', 'secure']\n",
    "        features[\"keyword_count\"] = sum(1 for kw in keywords if kw in url)\n",
    "        return features\n",
    "    except Exception as e:\n",
    "        print(f\"Ошибка при обработке URL {url}: {e}\")\n",
    "        return None\n",
    "\n",
    "# Применение функции\n",
    "features = data[\"url\"].apply(extract_features)\n",
    "valid_indices = features[features.notna()].index\n",
    "data = data.loc[valid_indices]\n",
    "features = features.loc[valid_indices]\n",
    "\n",
    "# Создание DataFrame с признаками\n",
    "features_df = pd.DataFrame(features.tolist())\n",
    "labels = data[\"label\"].values"
   ]
  },
  {
   "cell_type": "code",
   "execution_count": 86,
   "id": "61987000-d445-4437-8d15-689e8b3d4140",
   "metadata": {},
   "outputs": [
    {
     "name": "stdout",
     "output_type": "stream",
     "text": [
      "\n",
      "Весовой коэффициент для минорного класса: 3.0\n"
     ]
    }
   ],
   "source": [
    "# Расчет веса для минорного класса (для параметра scale_pos_weight)\n",
    "negative_count = sum(labels == 0)\n",
    "positive_count = sum(labels == 1)\n",
    "scale_pos_weight = negative_count / positive_count\n",
    "print(f\"\\nВесовой коэффициент для минорного класса: {scale_pos_weight:.1f}\")"
   ]
  },
  {
   "cell_type": "code",
   "execution_count": 87,
   "id": "83fc0870-8c6c-4d97-b92a-315d5e307e58",
   "metadata": {},
   "outputs": [],
   "source": [
    "X_train, X_test, y_train, y_test = train_test_split(\n",
    "    features_df, \n",
    "    labels, \n",
    "    test_size=0.2, \n",
    "    stratify=labels, \n",
    "    random_state=42\n",
    ")"
   ]
  },
  {
   "cell_type": "code",
   "execution_count": 88,
   "id": "0dcadde6-52a0-435f-95a7-49abeb22663d",
   "metadata": {},
   "outputs": [
    {
     "name": "stdout",
     "output_type": "stream",
     "text": [
      "\n",
      "Количество классов в данных: 4\n",
      "[0]\ttrain-mlogloss:1.31610\ttest-mlogloss:1.31594\n",
      "[50]\ttrain-mlogloss:0.33510\ttest-mlogloss:0.34180\n",
      "[100]\ttrain-mlogloss:0.22910\ttest-mlogloss:0.24596\n",
      "[150]\ttrain-mlogloss:0.19800\ttest-mlogloss:0.22484\n",
      "[200]\ttrain-mlogloss:0.18101\ttest-mlogloss:0.21663\n",
      "[250]\ttrain-mlogloss:0.16984\ttest-mlogloss:0.21226\n",
      "[300]\ttrain-mlogloss:0.16082\ttest-mlogloss:0.20941\n",
      "[350]\ttrain-mlogloss:0.15238\ttest-mlogloss:0.20832\n",
      "[400]\ttrain-mlogloss:0.14543\ttest-mlogloss:0.20718\n",
      "[450]\ttrain-mlogloss:0.13803\ttest-mlogloss:0.20733\n",
      "[461]\ttrain-mlogloss:0.13681\ttest-mlogloss:0.20729\n"
     ]
    }
   ],
   "source": [
    "# 6. Обучение XGBoost (исправленная версия)\n",
    "# Создание DMatrix для XGBoost (оптимизированный формат данных)\n",
    "dtrain = xgb.DMatrix(X_train, label=y_train)\n",
    "dtest = xgb.DMatrix(X_test, label=y_test)\n",
    "# ----------------------------------------------------------\n",
    "\n",
    "# Проверка количества классов\n",
    "num_classes = len(np.unique(labels))\n",
    "print(f\"\\nКоличество классов в данных: {num_classes}\")\n",
    "\n",
    "# Параметры модели (адаптированные под задачу)\n",
    "params = {\n",
    "    \"objective\": \"binary:logistic\" if num_classes == 2 else \"multi:softprob\",\n",
    "    \"eval_metric\": \"auc\" if num_classes == 2 else \"mlogloss\",\n",
    "    \"booster\": \"gbtree\",\n",
    "    \"eta\": 0.05,\n",
    "    \"max_depth\": 6,\n",
    "    \"scale_pos_weight\": scale_pos_weight if num_classes == 2 else None,\n",
    "    \"subsample\": 0.8,\n",
    "    \"colsample_bytree\": 0.8,\n",
    "    \"seed\": 42\n",
    "}\n",
    "\n",
    "# Добавляем num_class только для многоклассовой классификации\n",
    "if num_classes > 2:\n",
    "    params[\"num_class\"] = num_classes\n",
    "\n",
    "# Обучение\n",
    "model = xgb.train(\n",
    "    params,\n",
    "    dtrain,\n",
    "    num_boost_round=1000,\n",
    "    evals=[(dtrain, \"train\"), (dtest, \"test\")],\n",
    "    early_stopping_rounds=50,\n",
    "    verbose_eval=50\n",
    ")\n"
   ]
  },
  {
   "cell_type": "code",
   "execution_count": 89,
   "id": "ff15f137-33ea-41ab-ac5e-8028d13b2e0b",
   "metadata": {},
   "outputs": [
    {
     "name": "stdout",
     "output_type": "stream",
     "text": [
      "\n",
      "Classification Report:\n",
      "              precision    recall  f1-score   support\n",
      "\n",
      "           0       0.86      0.93      0.89       545\n",
      "           1       0.82      0.65      0.72       182\n",
      "           2       0.96      0.97      0.97      2199\n",
      "           3       0.90      0.46      0.61        61\n",
      "\n",
      "    accuracy                           0.93      2987\n",
      "   macro avg       0.89      0.75      0.80      2987\n",
      "weighted avg       0.93      0.93      0.93      2987\n",
      "\n",
      "\n",
      "ROC-AUC (OvR): 0.97\n"
     ]
    }
   ],
   "source": [
    "# 7. Оценка модели (исправленная версия)\n",
    "# ----------------------------------------------------------\n",
    "\n",
    "# Предсказание вероятностей\n",
    "y_pred_proba = model.predict(dtest)\n",
    "\n",
    "# Для бинарной классификации: преобразование вероятностей в метки\n",
    "if num_classes == 2:\n",
    "    y_pred = (y_pred_proba > 0.5).astype(int)\n",
    "# Для многоклассовой классификации: выбор класса с максимальной вероятностью\n",
    "else:\n",
    "    y_pred = np.argmax(y_pred_proba, axis=1)\n",
    "\n",
    "# Убедимся, что y_test имеет правильный формат (не one-hot encoded)\n",
    "if y_test.ndim > 1:\n",
    "    y_test = np.argmax(y_test, axis=1)\n",
    "\n",
    "# Метрики\n",
    "print(\"\\nClassification Report:\")\n",
    "print(classification_report(y_test, y_pred))\n",
    "\n",
    "if num_classes == 2:\n",
    "    print(f\"\\nROC-AUC: {roc_auc_score(y_test, y_pred_proba):.2f}\")\n",
    "else:\n",
    "    # Для многоклассовой задачи: ROC-AUC One-vs-Rest\n",
    "    print(f\"\\nROC-AUC (OvR): {roc_auc_score(y_test, y_pred_proba, multi_class='ovr'):.2f}\")"
   ]
  },
  {
   "cell_type": "code",
   "execution_count": 90,
   "id": "a3ab8740-7e42-4c55-953a-a2cd59ced33e",
   "metadata": {},
   "outputs": [
    {
     "data": {
      "image/png": "[encoded data removed]",
      "text/plain": [
       "<Figure size 640x480 with 1 Axes>"
      ]
     },
     "metadata": {},
     "output_type": "display_data"
    }
   ],
   "source": [
    "import xgboost as xgb\n",
    "\n",
    "# Обучите модель\n",
    "model = xgb.XGBClassifier()\n",
    "model.fit(X_train, y_train)\n",
    "\n",
    "# Визуализируйте важность признаков\n",
    "xgb.plot_importance(model, importance_type=\"weight\")\n",
    "plt.show()"
   ]
  },
  {
   "cell_type": "code",
   "execution_count": 91,
   "id": "46954ba6-310a-42ca-8cfe-be2f78399619",
   "metadata": {},
   "outputs": [],
   "source": [
    "def predict_url(url: str, model, threshold: float = 0.5) -> str:\n",
    "    \"\"\"\n",
    "    Предсказывает класс URL (вредоносный/доброкачественный).\n",
    "    \n",
    "    Параметры:\n",
    "        url (str): URL для проверки.\n",
    "        model: Обученная модель (XGBoost, RandomForest и т.д.).\n",
    "        threshold (float): Порог классификации (по умолчанию 0.5).\n",
    "    \n",
    "    Возвращает:\n",
    "        str: \"Вредоносный\", \"Доброкачественный\" или сообщение об ошибке.\n",
    "    \"\"\"\n",
    "    try:\n",
    "        # Шаг 1: Извлечение признаков\n",
    "        features = extract_features(url)\n",
    "        if not features:\n",
    "            return \"Ошибка: не удалось извлечь признаки из URL.\"\n",
    "        \n",
    "        # Шаг 2: Преобразование в DataFrame\n",
    "        features_df = pd.DataFrame([features])\n",
    "        \n",
    "        # Шаг 3: Нормализация данных (если использовалась при обучении)\n",
    "        if 'scaler' in globals():  # Проверка, определен ли scaler\n",
    "            features_df = pd.DataFrame(scaler.transform(features_df), columns=features_df.columns)\n",
    "        \n",
    "        # Шаг 4: Предсказание вероятности\n",
    "        if isinstance(model, xgb.Booster):  # Для XGBoost\n",
    "            dtest = xgb.DMatrix(features_df)\n",
    "            proba = model.predict(dtest)[0]\n",
    "        elif hasattr(model, \"predict_proba\"):  # Для RandomForest, LightGBM и т.д.\n",
    "            proba = model.predict_proba(features_df)[0][1]  # Вероятность класса 1\n",
    "        else:\n",
    "            return \"Ошибка: неподдерживаемый тип модели.\"\n",
    "        \n",
    "        # Шаг 5: Классификация с настраиваемым порогом\n",
    "        if proba > threshold:\n",
    "            return \"Вредоносный\"\n",
    "        else:\n",
    "            return \"Доброкачественный\"\n",
    "    \n",
    "    except Exception as e:\n",
    "        return f\"Ошибка предсказания: {str(e)}\""
   ]
  },
  {
   "cell_type": "code",
   "execution_count": 92,
   "id": "21bf4fb6-0bcf-4dfa-a72a-a9f04652b428",
   "metadata": {},
   "outputs": [
    {
     "name": "stdout",
     "output_type": "stream",
     "text": [
      "Доброкачественный\n"
     ]
    }
   ],
   "source": [
    "print(predict_url(\"http://internetgazeta.cardvrmirrorr.ru/index.html?p=UA-sliv\", model, threshold=0.7))  # Строгая проверка"
   ]
  },
  {
   "cell_type": "code",
   "execution_count": null,
   "id": "ac0b5e40-7a59-4d67-aa3c-5fbdc6322a79",
   "metadata": {},
   "outputs": [],
   "source": []
  }
 ],
 "metadata": {
  "kernelspec": {
   "display_name": "Python 3 (ipykernel)",
   "language": "python",
   "name": "python3"
  },
  "language_info": {
   "codemirror_mode": {
    "name": "ipython",
    "version": 3
   },
   "file_extension": ".py",
   "mimetype": "text/x-python",
   "name": "python",
   "nbconvert_exporter": "python",
   "pygments_lexer": "ipython3",
   "version": "3.10.11"
  }
 },
 "nbformat": 4,
 "nbformat_minor": 5
}
