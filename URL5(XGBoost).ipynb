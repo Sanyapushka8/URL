{
 "cells": [
  {
   "cell_type": "code",
<<<<<<< HEAD
   "execution_count": 83,
=======
   "execution_count": 13,
>>>>>>> origin/main
   "id": "eea96dc3-983b-477d-94cc-552cc7eb7feb",
   "metadata": {},
   "outputs": [
    {
     "name": "stdout",
     "output_type": "stream",
     "text": [
      "Распределение классов:\n",
      "label\n",
      "benign        10991\n",
      "defacement     2727\n",
      "phishing        912\n",
      "malware         303\n",
      "Name: count, dtype: int64\n"
     ]
    },
    {
     "data": {
      "text/html": [
       "<div>\n",
       "<style scoped>\n",
       "    .dataframe tbody tr th:only-of-type {\n",
       "        vertical-align: middle;\n",
       "    }\n",
       "\n",
       "    .dataframe tbody tr th {\n",
       "        vertical-align: top;\n",
       "    }\n",
       "\n",
       "    .dataframe thead th {\n",
       "        text-align: right;\n",
       "    }\n",
       "</style>\n",
       "<table border=\"1\" class=\"dataframe\">\n",
       "  <thead>\n",
       "    <tr style=\"text-align: right;\">\n",
       "      <th></th>\n",
       "      <th>count</th>\n",
       "      <th>url</th>\n",
       "      <th>label</th>\n",
       "    </tr>\n",
       "  </thead>\n",
       "  <tbody>\n",
       "    <tr>\n",
       "      <th>0</th>\n",
       "      <td>0</td>\n",
       "      <td>br-icloud.com.br</td>\n",
       "      <td>phishing</td>\n",
       "    </tr>\n",
       "    <tr>\n",
       "      <th>1</th>\n",
       "      <td>1</td>\n",
       "      <td>mp3raid.com/music/krizz_kaliko.html</td>\n",
       "      <td>benign</td>\n",
       "    </tr>\n",
       "    <tr>\n",
       "      <th>2</th>\n",
       "      <td>2</td>\n",
       "      <td>bopsecrets.org/rexroth/cr/1.htm</td>\n",
       "      <td>benign</td>\n",
       "    </tr>\n",
       "    <tr>\n",
       "      <th>3</th>\n",
       "      <td>3</td>\n",
       "      <td>http://www.garage-pirenne.be/index.php?option=...</td>\n",
       "      <td>defacement</td>\n",
       "    </tr>\n",
       "    <tr>\n",
       "      <th>4</th>\n",
       "      <td>4</td>\n",
       "      <td>http://adventure-nicaragua.net/index.php?optio...</td>\n",
       "      <td>defacement</td>\n",
       "    </tr>\n",
       "    <tr>\n",
       "      <th>...</th>\n",
       "      <td>...</td>\n",
       "      <td>...</td>\n",
       "      <td>...</td>\n",
       "    </tr>\n",
       "    <tr>\n",
       "      <th>14995</th>\n",
       "      <td>14995</td>\n",
       "      <td>fortdefianceind.com/</td>\n",
       "      <td>benign</td>\n",
       "    </tr>\n",
       "    <tr>\n",
       "      <th>14996</th>\n",
       "      <td>14996</td>\n",
       "      <td>bookrags.com/lens/go.php?u=Hannah_Webster_Foster</td>\n",
       "      <td>benign</td>\n",
       "    </tr>\n",
       "    <tr>\n",
       "      <th>14997</th>\n",
       "      <td>14997</td>\n",
       "      <td>burbankairport.com/parking/buses-trains.html</td>\n",
       "      <td>benign</td>\n",
       "    </tr>\n",
       "    <tr>\n",
       "      <th>14998</th>\n",
       "      <td>14998</td>\n",
       "      <td>http://otomoto.pl/oferta/subaru-outback-legacy...</td>\n",
       "      <td>benign</td>\n",
       "    </tr>\n",
       "    <tr>\n",
       "      <th>14999</th>\n",
       "      <td>14999</td>\n",
       "      <td>sfmuseum.org/hist2/bbridge.html</td>\n",
       "      <td>benign</td>\n",
       "    </tr>\n",
       "  </tbody>\n",
       "</table>\n",
       "<p>14933 rows × 3 columns</p>\n",
       "</div>"
      ],
      "text/plain": [
       "       count                                                url       label\n",
       "0          0                                   br-icloud.com.br    phishing\n",
       "1          1                mp3raid.com/music/krizz_kaliko.html      benign\n",
       "2          2                    bopsecrets.org/rexroth/cr/1.htm      benign\n",
       "3          3  http://www.garage-pirenne.be/index.php?option=...  defacement\n",
       "4          4  http://adventure-nicaragua.net/index.php?optio...  defacement\n",
       "...      ...                                                ...         ...\n",
       "14995  14995                               fortdefianceind.com/      benign\n",
       "14996  14996   bookrags.com/lens/go.php?u=Hannah_Webster_Foster      benign\n",
       "14997  14997       burbankairport.com/parking/buses-trains.html      benign\n",
       "14998  14998  http://otomoto.pl/oferta/subaru-outback-legacy...      benign\n",
       "14999  14999                    sfmuseum.org/hist2/bbridge.html      benign\n",
       "\n",
       "[14933 rows x 3 columns]"
      ]
     },
<<<<<<< HEAD
     "execution_count": 83,
=======
     "execution_count": 13,
>>>>>>> origin/main
     "metadata": {},
     "output_type": "execute_result"
    }
   ],
   "source": [
    "import pandas as pd\n",
    "import numpy as np\n",
    "import xgboost as xgb\n",
    "from sklearn.model_selection import train_test_split\n",
    "from sklearn.metrics import classification_report, roc_auc_score\n",
    "from sklearn.preprocessing import StandardScaler\n",
    "from sklearn.utils.class_weight import compute_class_weight\n",
    "import tldextract\n",
    "import matplotlib.pyplot as plt\n",
    "import warnings\n",
    "warnings.filterwarnings(\"ignore\")\n",
    "data = pd.read_csv(\"Malicious-URLs.csv\")\n",
    "# Удаление дубликатов и пустых значений\n",
    "data = data.drop_duplicates(subset=\"url\").dropna()\n",
    "\n",
    "# Проверка баланса классов\n",
    "print(\"Распределение классов:\")\n",
    "print(data[\"label\"].value_counts())\n",
    "data"
   ]
  },
  {
   "cell_type": "code",
<<<<<<< HEAD
   "execution_count": 84,
=======
   "execution_count": 14,
>>>>>>> origin/main
   "id": "15fb40d4-ffbc-47bc-988c-b9bb6dcfeda8",
   "metadata": {},
   "outputs": [
    {
     "data": {
      "text/html": [
       "<div>\n",
       "<style scoped>\n",
       "    .dataframe tbody tr th:only-of-type {\n",
       "        vertical-align: middle;\n",
       "    }\n",
       "\n",
       "    .dataframe tbody tr th {\n",
       "        vertical-align: top;\n",
       "    }\n",
       "\n",
       "    .dataframe thead th {\n",
       "        text-align: right;\n",
       "    }\n",
       "</style>\n",
       "<table border=\"1\" class=\"dataframe\">\n",
       "  <thead>\n",
       "    <tr style=\"text-align: right;\">\n",
       "      <th></th>\n",
       "      <th>count</th>\n",
       "      <th>url</th>\n",
       "      <th>label</th>\n",
       "    </tr>\n",
       "  </thead>\n",
       "  <tbody>\n",
       "    <tr>\n",
       "      <th>0</th>\n",
       "      <td>0</td>\n",
       "      <td>br-icloud.com.br</td>\n",
       "      <td>1</td>\n",
       "    </tr>\n",
       "    <tr>\n",
       "      <th>1</th>\n",
       "      <td>1</td>\n",
       "      <td>mp3raid.com/music/krizz_kaliko.html</td>\n",
       "      <td>2</td>\n",
       "    </tr>\n",
       "    <tr>\n",
       "      <th>2</th>\n",
       "      <td>2</td>\n",
       "      <td>bopsecrets.org/rexroth/cr/1.htm</td>\n",
       "      <td>2</td>\n",
       "    </tr>\n",
       "    <tr>\n",
       "      <th>3</th>\n",
       "      <td>3</td>\n",
       "      <td>http://www.garage-pirenne.be/index.php?option=...</td>\n",
       "      <td>0</td>\n",
       "    </tr>\n",
       "    <tr>\n",
       "      <th>4</th>\n",
       "      <td>4</td>\n",
       "      <td>http://adventure-nicaragua.net/index.php?optio...</td>\n",
       "      <td>0</td>\n",
       "    </tr>\n",
       "    <tr>\n",
       "      <th>...</th>\n",
       "      <td>...</td>\n",
       "      <td>...</td>\n",
       "      <td>...</td>\n",
       "    </tr>\n",
       "    <tr>\n",
       "      <th>14995</th>\n",
       "      <td>14995</td>\n",
       "      <td>fortdefianceind.com/</td>\n",
       "      <td>2</td>\n",
       "    </tr>\n",
       "    <tr>\n",
       "      <th>14996</th>\n",
       "      <td>14996</td>\n",
       "      <td>bookrags.com/lens/go.php?u=Hannah_Webster_Foster</td>\n",
       "      <td>2</td>\n",
       "    </tr>\n",
       "    <tr>\n",
       "      <th>14997</th>\n",
       "      <td>14997</td>\n",
       "      <td>burbankairport.com/parking/buses-trains.html</td>\n",
       "      <td>2</td>\n",
       "    </tr>\n",
       "    <tr>\n",
       "      <th>14998</th>\n",
       "      <td>14998</td>\n",
       "      <td>http://otomoto.pl/oferta/subaru-outback-legacy...</td>\n",
       "      <td>2</td>\n",
       "    </tr>\n",
       "    <tr>\n",
       "      <th>14999</th>\n",
       "      <td>14999</td>\n",
       "      <td>sfmuseum.org/hist2/bbridge.html</td>\n",
       "      <td>2</td>\n",
       "    </tr>\n",
       "  </tbody>\n",
       "</table>\n",
       "<p>14933 rows × 3 columns</p>\n",
       "</div>"
      ],
      "text/plain": [
       "       count                                                url  label\n",
       "0          0                                   br-icloud.com.br      1\n",
       "1          1                mp3raid.com/music/krizz_kaliko.html      2\n",
       "2          2                    bopsecrets.org/rexroth/cr/1.htm      2\n",
       "3          3  http://www.garage-pirenne.be/index.php?option=...      0\n",
       "4          4  http://adventure-nicaragua.net/index.php?optio...      0\n",
       "...      ...                                                ...    ...\n",
       "14995  14995                               fortdefianceind.com/      2\n",
       "14996  14996   bookrags.com/lens/go.php?u=Hannah_Webster_Foster      2\n",
       "14997  14997       burbankairport.com/parking/buses-trains.html      2\n",
       "14998  14998  http://otomoto.pl/oferta/subaru-outback-legacy...      2\n",
       "14999  14999                    sfmuseum.org/hist2/bbridge.html      2\n",
       "\n",
       "[14933 rows x 3 columns]"
      ]
     },
<<<<<<< HEAD
     "execution_count": 84,
=======
     "execution_count": 14,
>>>>>>> origin/main
     "metadata": {},
     "output_type": "execute_result"
    }
   ],
   "source": [
    "data[\"label\"] = data[\"label\"].map({'defacement': 0, 'phishing': 1, 'benign': 2, 'malware': 3})\n",
    "data"
   ]
  },
  {
   "cell_type": "code",
<<<<<<< HEAD
   "execution_count": 85,
=======
   "execution_count": 15,
>>>>>>> origin/main
   "id": "a80a06f1-1b4f-4727-9cac-562b2abb5755",
   "metadata": {},
   "outputs": [],
   "source": [
    "def extract_features(url):\n",
    "    features = {}\n",
    "    try:\n",
    "        # Лексические признаки\n",
    "        features[\"url_length\"] = len(url)\n",
    "        features[\"num_special_chars\"] = sum(url.count(c) for c in ['@', '%', '//', '?', '='])\n",
    "        \n",
    "        # Анализ домена\n",
    "        ext = tldextract.extract(url)\n",
    "        features[\"subdomain_count\"] = len(ext.subdomain.split('.')) if ext.subdomain else 0\n",
    "        features[\"domain_length\"] = len(ext.domain)\n",
    "        features[\"has_ip\"] = 1 if any(part.isdigit() for part in ext.domain.split('.')) else 0\n",
    "        \n",
    "        # Семантические признаки\n",
    "        keywords = ['login', 'admin', 'exe', 'php', 'config', 'secure']\n",
    "        features[\"keyword_count\"] = sum(1 for kw in keywords if kw in url)\n",
    "        return features\n",
    "    except Exception as e:\n",
    "        print(f\"Ошибка при обработке URL {url}: {e}\")\n",
    "        return None\n",
    "\n",
    "# Применение функции\n",
    "features = data[\"url\"].apply(extract_features)\n",
    "valid_indices = features[features.notna()].index\n",
    "data = data.loc[valid_indices]\n",
    "features = features.loc[valid_indices]\n",
    "\n",
    "# Создание DataFrame с признаками\n",
    "features_df = pd.DataFrame(features.tolist())\n",
    "labels = data[\"label\"].values"
   ]
  },
  {
   "cell_type": "code",
   "execution_count": null,
   "id": "6c770aea-6cd1-4e86-8d6d-2c37f2612b92",
   "metadata": {},
   "outputs": [],
   "source": []
  },
  {
   "cell_type": "code",
<<<<<<< HEAD
   "execution_count": 86,
=======
   "execution_count": 16,
>>>>>>> origin/main
   "id": "fa155f7c-1e1d-4ca0-a43b-b01f09f37307",
   "metadata": {},
   "outputs": [
    {
     "name": "stdout",
     "output_type": "stream",
     "text": [
      "\n",
      "Весовой коэффициент для минорного класса: 3.0\n"
     ]
    }
   ],
   "source": [
    "# Расчет веса для минорного класса (для параметра scale_pos_weight)\n",
    "negative_count = sum(labels == 0)\n",
    "positive_count = sum(labels == 1)\n",
    "scale_pos_weight = negative_count / positive_count\n",
    "print(f\"\\nВесовой коэффициент для минорного класса: {scale_pos_weight:.1f}\")"
   ]
  },
  {
   "cell_type": "code",
<<<<<<< HEAD
   "execution_count": 87,
=======
   "execution_count": 17,
>>>>>>> origin/main
   "id": "6b4f4d94-2872-492b-94af-96f62470a623",
   "metadata": {},
   "outputs": [],
   "source": [
    "X_train, X_test, y_train, y_test = train_test_split(\n",
    "    features_df, \n",
    "    labels, \n",
    "    test_size=0.2, \n",
    "    stratify=labels, \n",
    "    random_state=42\n",
    ")"
   ]
  },
  {
   "cell_type": "code",
<<<<<<< HEAD
   "execution_count": 96,
=======
   "execution_count": 27,
>>>>>>> origin/main
   "id": "a3bcce9e-30f2-43e9-b968-f501fb66b65a",
   "metadata": {},
   "outputs": [
    {
<<<<<<< HEAD
     "name": "stdout",
     "output_type": "stream",
     "text": [
      "\n",
      "Количество классов в данных: 4\n",
      "[0]\ttrain-mlogloss:1.31613\ttest-mlogloss:1.31618\n",
      "[50]\ttrain-mlogloss:0.33497\ttest-mlogloss:0.34179\n",
      "[100]\ttrain-mlogloss:0.22913\ttest-mlogloss:0.24581\n",
      "[150]\ttrain-mlogloss:0.19761\ttest-mlogloss:0.22530\n",
      "[200]\ttrain-mlogloss:0.18144\ttest-mlogloss:0.21701\n",
      "[250]\ttrain-mlogloss:0.17023\ttest-mlogloss:0.21268\n",
      "[300]\ttrain-mlogloss:0.16108\ttest-mlogloss:0.20960\n",
      "[350]\ttrain-mlogloss:0.15223\ttest-mlogloss:0.20863\n",
      "[400]\ttrain-mlogloss:0.14486\ttest-mlogloss:0.20744\n",
      "[450]\ttrain-mlogloss:0.13807\ttest-mlogloss:0.20715\n",
      "[500]\ttrain-mlogloss:0.13206\ttest-mlogloss:0.20703\n",
      "[508]\ttrain-mlogloss:0.13123\ttest-mlogloss:0.20713\n"
=======
     "ename": "XGBoostError",
     "evalue": "value 0 for Parameter num_class should be greater equal to 1\nnum_class: Number of output class in the multi-class classification.",
     "output_type": "error",
     "traceback": [
      "\u001b[1;31m---------------------------------------------------------------------------\u001b[0m",
      "\u001b[1;31mXGBoostError\u001b[0m                              Traceback (most recent call last)",
      "Cell \u001b[1;32mIn[27], line 21\u001b[0m\n\u001b[0;32m      6\u001b[0m params \u001b[38;5;241m=\u001b[39m {\n\u001b[0;32m      7\u001b[0m     \u001b[38;5;124m\"\u001b[39m\u001b[38;5;124mobjective\u001b[39m\u001b[38;5;124m\"\u001b[39m: \u001b[38;5;124m\"\u001b[39m\u001b[38;5;124mmulti:softprob\u001b[39m\u001b[38;5;124m\"\u001b[39m,  \u001b[38;5;66;03m# Для мультикласса: \"multi:softprob\"\u001b[39;00m\n\u001b[0;32m      8\u001b[0m     \u001b[38;5;124m\"\u001b[39m\u001b[38;5;124meval_metric\u001b[39m\u001b[38;5;124m\"\u001b[39m: \u001b[38;5;124m\"\u001b[39m\u001b[38;5;124mmlogloss\u001b[39m\u001b[38;5;124m\"\u001b[39m,\u001b[38;5;66;03m# Для мультикласса: \"mlogloss\"\u001b[39;00m\n\u001b[1;32m   (...)\u001b[0m\n\u001b[0;32m     17\u001b[0m     \u001b[38;5;124m\"\u001b[39m\u001b[38;5;124mseed\u001b[39m\u001b[38;5;124m\"\u001b[39m: \u001b[38;5;241m42\u001b[39m\n\u001b[0;32m     18\u001b[0m }\n\u001b[0;32m     20\u001b[0m \u001b[38;5;66;03m# Обучение с ранней остановкой\u001b[39;00m\n\u001b[1;32m---> 21\u001b[0m model \u001b[38;5;241m=\u001b[39m \u001b[43mxgb\u001b[49m\u001b[38;5;241;43m.\u001b[39;49m\u001b[43mtrain\u001b[49m\u001b[43m(\u001b[49m\n\u001b[0;32m     22\u001b[0m \u001b[43m    \u001b[49m\u001b[43mparams\u001b[49m\u001b[43m,\u001b[49m\n\u001b[0;32m     23\u001b[0m \u001b[43m    \u001b[49m\u001b[43mdtrain\u001b[49m\u001b[43m,\u001b[49m\n\u001b[0;32m     24\u001b[0m \u001b[43m    \u001b[49m\u001b[43mnum_boost_round\u001b[49m\u001b[38;5;241;43m=\u001b[39;49m\u001b[38;5;241;43m1000\u001b[39;49m\u001b[43m,\u001b[49m\n\u001b[0;32m     25\u001b[0m \u001b[43m    \u001b[49m\u001b[43mevals\u001b[49m\u001b[38;5;241;43m=\u001b[39;49m\u001b[43m[\u001b[49m\u001b[43m(\u001b[49m\u001b[43mdtrain\u001b[49m\u001b[43m,\u001b[49m\u001b[43m \u001b[49m\u001b[38;5;124;43m\"\u001b[39;49m\u001b[38;5;124;43mtrain\u001b[39;49m\u001b[38;5;124;43m\"\u001b[39;49m\u001b[43m)\u001b[49m\u001b[43m,\u001b[49m\u001b[43m \u001b[49m\u001b[43m(\u001b[49m\u001b[43mdtest\u001b[49m\u001b[43m,\u001b[49m\u001b[43m \u001b[49m\u001b[38;5;124;43m\"\u001b[39;49m\u001b[38;5;124;43mtest\u001b[39;49m\u001b[38;5;124;43m\"\u001b[39;49m\u001b[43m)\u001b[49m\u001b[43m]\u001b[49m\u001b[43m,\u001b[49m\n\u001b[0;32m     26\u001b[0m \u001b[43m    \u001b[49m\u001b[43mearly_stopping_rounds\u001b[49m\u001b[38;5;241;43m=\u001b[39;49m\u001b[38;5;241;43m50\u001b[39;49m\u001b[43m,\u001b[49m\n\u001b[0;32m     27\u001b[0m \u001b[43m    \u001b[49m\u001b[43mverbose_eval\u001b[49m\u001b[38;5;241;43m=\u001b[39;49m\u001b[38;5;241;43m50\u001b[39;49m\n\u001b[0;32m     28\u001b[0m \u001b[43m)\u001b[49m\n",
      "File \u001b[1;32mC:\\Python\\projects\\PythonProject\\URL\\.venv\\lib\\site-packages\\xgboost\\core.py:726\u001b[0m, in \u001b[0;36mrequire_keyword_args.<locals>.throw_if.<locals>.inner_f\u001b[1;34m(*args, **kwargs)\u001b[0m\n\u001b[0;32m    724\u001b[0m \u001b[38;5;28;01mfor\u001b[39;00m k, arg \u001b[38;5;129;01min\u001b[39;00m \u001b[38;5;28mzip\u001b[39m(sig\u001b[38;5;241m.\u001b[39mparameters, args):\n\u001b[0;32m    725\u001b[0m     kwargs[k] \u001b[38;5;241m=\u001b[39m arg\n\u001b[1;32m--> 726\u001b[0m \u001b[38;5;28;01mreturn\u001b[39;00m func(\u001b[38;5;241m*\u001b[39m\u001b[38;5;241m*\u001b[39mkwargs)\n",
      "File \u001b[1;32mC:\\Python\\projects\\PythonProject\\URL\\.venv\\lib\\site-packages\\xgboost\\training.py:176\u001b[0m, in \u001b[0;36mtrain\u001b[1;34m(params, dtrain, num_boost_round, evals, obj, feval, maximize, early_stopping_rounds, evals_result, verbose_eval, xgb_model, callbacks, custom_metric)\u001b[0m\n\u001b[0;32m    166\u001b[0m     callbacks\u001b[38;5;241m.\u001b[39mappend(EarlyStopping(rounds\u001b[38;5;241m=\u001b[39mearly_stopping_rounds, maximize\u001b[38;5;241m=\u001b[39mmaximize))\n\u001b[0;32m    167\u001b[0m cb_container \u001b[38;5;241m=\u001b[39m CallbackContainer(\n\u001b[0;32m    168\u001b[0m     callbacks,\n\u001b[0;32m    169\u001b[0m     metric\u001b[38;5;241m=\u001b[39mmetric_fn,\n\u001b[1;32m   (...)\u001b[0m\n\u001b[0;32m    173\u001b[0m     output_margin\u001b[38;5;241m=\u001b[39m\u001b[38;5;28mcallable\u001b[39m(obj) \u001b[38;5;129;01mor\u001b[39;00m metric_fn \u001b[38;5;129;01mis\u001b[39;00m feval,\n\u001b[0;32m    174\u001b[0m )\n\u001b[1;32m--> 176\u001b[0m bst \u001b[38;5;241m=\u001b[39m \u001b[43mcb_container\u001b[49m\u001b[38;5;241;43m.\u001b[39;49m\u001b[43mbefore_training\u001b[49m\u001b[43m(\u001b[49m\u001b[43mbst\u001b[49m\u001b[43m)\u001b[49m\n\u001b[0;32m    178\u001b[0m \u001b[38;5;28;01mfor\u001b[39;00m i \u001b[38;5;129;01min\u001b[39;00m \u001b[38;5;28mrange\u001b[39m(start_iteration, num_boost_round):\n\u001b[0;32m    179\u001b[0m     \u001b[38;5;28;01mif\u001b[39;00m cb_container\u001b[38;5;241m.\u001b[39mbefore_iteration(bst, i, dtrain, evals):\n",
      "File \u001b[1;32mC:\\Python\\projects\\PythonProject\\URL\\.venv\\lib\\site-packages\\xgboost\\callback.py:179\u001b[0m, in \u001b[0;36mCallbackContainer.before_training\u001b[1;34m(self, model)\u001b[0m\n\u001b[0;32m    177\u001b[0m \u001b[38;5;250m\u001b[39m\u001b[38;5;124;03m\"\"\"Function called before training.\"\"\"\u001b[39;00m\n\u001b[0;32m    178\u001b[0m \u001b[38;5;28;01mfor\u001b[39;00m c \u001b[38;5;129;01min\u001b[39;00m \u001b[38;5;28mself\u001b[39m\u001b[38;5;241m.\u001b[39mcallbacks:\n\u001b[1;32m--> 179\u001b[0m     model \u001b[38;5;241m=\u001b[39m \u001b[43mc\u001b[49m\u001b[38;5;241;43m.\u001b[39;49m\u001b[43mbefore_training\u001b[49m\u001b[43m(\u001b[49m\u001b[43mmodel\u001b[49m\u001b[38;5;241;43m=\u001b[39;49m\u001b[43mmodel\u001b[49m\u001b[43m)\u001b[49m\n\u001b[0;32m    180\u001b[0m     msg \u001b[38;5;241m=\u001b[39m \u001b[38;5;124m\"\u001b[39m\u001b[38;5;124mbefore_training should return the model\u001b[39m\u001b[38;5;124m\"\u001b[39m\n\u001b[0;32m    181\u001b[0m     \u001b[38;5;28;01mif\u001b[39;00m \u001b[38;5;28mself\u001b[39m\u001b[38;5;241m.\u001b[39mis_cv:\n",
      "File \u001b[1;32mC:\\Python\\projects\\PythonProject\\URL\\.venv\\lib\\site-packages\\xgboost\\callback.py:374\u001b[0m, in \u001b[0;36mEarlyStopping.before_training\u001b[1;34m(self, model)\u001b[0m\n\u001b[0;32m    373\u001b[0m \u001b[38;5;28;01mdef\u001b[39;00m\u001b[38;5;250m \u001b[39m\u001b[38;5;21mbefore_training\u001b[39m(\u001b[38;5;28mself\u001b[39m, model: _Model) \u001b[38;5;241m-\u001b[39m\u001b[38;5;241m>\u001b[39m _Model:\n\u001b[1;32m--> 374\u001b[0m     \u001b[38;5;28mself\u001b[39m\u001b[38;5;241m.\u001b[39mstarting_round \u001b[38;5;241m=\u001b[39m \u001b[43mmodel\u001b[49m\u001b[38;5;241;43m.\u001b[39;49m\u001b[43mnum_boosted_rounds\u001b[49m\u001b[43m(\u001b[49m\u001b[43m)\u001b[49m\n\u001b[0;32m    375\u001b[0m     \u001b[38;5;28;01mreturn\u001b[39;00m model\n",
      "File \u001b[1;32mC:\\Python\\projects\\PythonProject\\URL\\.venv\\lib\\site-packages\\xgboost\\core.py:2743\u001b[0m, in \u001b[0;36mBooster.num_boosted_rounds\u001b[1;34m(self)\u001b[0m\n\u001b[0;32m   2741\u001b[0m rounds \u001b[38;5;241m=\u001b[39m ctypes\u001b[38;5;241m.\u001b[39mc_int()\n\u001b[0;32m   2742\u001b[0m \u001b[38;5;28;01massert\u001b[39;00m \u001b[38;5;28mself\u001b[39m\u001b[38;5;241m.\u001b[39mhandle \u001b[38;5;129;01mis\u001b[39;00m \u001b[38;5;129;01mnot\u001b[39;00m \u001b[38;5;28;01mNone\u001b[39;00m\n\u001b[1;32m-> 2743\u001b[0m \u001b[43m_check_call\u001b[49m\u001b[43m(\u001b[49m\u001b[43m_LIB\u001b[49m\u001b[38;5;241;43m.\u001b[39;49m\u001b[43mXGBoosterBoostedRounds\u001b[49m\u001b[43m(\u001b[49m\u001b[38;5;28;43mself\u001b[39;49m\u001b[38;5;241;43m.\u001b[39;49m\u001b[43mhandle\u001b[49m\u001b[43m,\u001b[49m\u001b[43m \u001b[49m\u001b[43mctypes\u001b[49m\u001b[38;5;241;43m.\u001b[39;49m\u001b[43mbyref\u001b[49m\u001b[43m(\u001b[49m\u001b[43mrounds\u001b[49m\u001b[43m)\u001b[49m\u001b[43m)\u001b[49m\u001b[43m)\u001b[49m\n\u001b[0;32m   2744\u001b[0m \u001b[38;5;28;01mreturn\u001b[39;00m rounds\u001b[38;5;241m.\u001b[39mvalue\n",
      "File \u001b[1;32mC:\\Python\\projects\\PythonProject\\URL\\.venv\\lib\\site-packages\\xgboost\\core.py:284\u001b[0m, in \u001b[0;36m_check_call\u001b[1;34m(ret)\u001b[0m\n\u001b[0;32m    273\u001b[0m \u001b[38;5;250m\u001b[39m\u001b[38;5;124;03m\"\"\"Check the return value of C API call\u001b[39;00m\n\u001b[0;32m    274\u001b[0m \n\u001b[0;32m    275\u001b[0m \u001b[38;5;124;03mThis function will raise exception when error occurs.\u001b[39;00m\n\u001b[1;32m   (...)\u001b[0m\n\u001b[0;32m    281\u001b[0m \u001b[38;5;124;03m    return value from API calls\u001b[39;00m\n\u001b[0;32m    282\u001b[0m \u001b[38;5;124;03m\"\"\"\u001b[39;00m\n\u001b[0;32m    283\u001b[0m \u001b[38;5;28;01mif\u001b[39;00m ret \u001b[38;5;241m!=\u001b[39m \u001b[38;5;241m0\u001b[39m:\n\u001b[1;32m--> 284\u001b[0m     \u001b[38;5;28;01mraise\u001b[39;00m XGBoostError(py_str(_LIB\u001b[38;5;241m.\u001b[39mXGBGetLastError()))\n",
      "\u001b[1;31mXGBoostError\u001b[0m: value 0 for Parameter num_class should be greater equal to 1\nnum_class: Number of output class in the multi-class classification."
>>>>>>> origin/main
     ]
    }
   ],
   "source": [
    "# Создание DMatrix для XGBoost (оптимизированный формат данных)\n",
    "dtrain = xgb.DMatrix(X_train, label=y_train)\n",
    "dtest = xgb.DMatrix(X_test, label=y_test)\n",
    "\n",
<<<<<<< HEAD
    "# 6. Обучение XGBoost (исправленная версия)\n",
    "# ----------------------------------------------------------\n",
    "\n",
    "# Проверка количества классов\n",
    "num_classes = len(np.unique(labels))\n",
    "print(f\"\\nКоличество классов в данных: {num_classes}\")\n",
    "\n",
    "# Параметры модели (адаптированные под задачу)\n",
    "params = {\n",
    "    \"objective\": \"binary:logistic\" if num_classes == 2 else \"multi:softprob\",\n",
    "    \"eval_metric\": \"auc\" if num_classes == 2 else \"mlogloss\",\n",
    "    \"booster\": \"gbtree\",\n",
    "    \"eta\": 0.05,\n",
    "    \"max_depth\": 6,\n",
    "    \"scale_pos_weight\": scale_pos_weight if num_classes == 2 else None,\n",
=======
    "# Параметры модели\n",
    "params = {\n",
    "    \"objective\": \"multi:softprob\",  # Для мультикласса: \"multi:softprob\"\n",
    "    \"eval_metric\": \"mlogloss\",# Для мультикласса: \"mlogloss\"\n",
    "    \"device\": \"cpu\",\n",
    "    \"verbosity\": 1,\n",
    "    \"booster\": \"gbtree\",\n",
    "    \"eta\": 0.05,                    # Learning rate\n",
    "    \"max_depth\": 6,\n",
    "    \"scale_pos_weight\": scale_pos_weight,  # Балансировка классов\n",
>>>>>>> origin/main
    "    \"subsample\": 0.8,\n",
    "    \"colsample_bytree\": 0.8,\n",
    "    \"seed\": 42\n",
    "}\n",
    "\n",
<<<<<<< HEAD
    "# Добавляем num_class только для многоклассовой классификации\n",
    "if num_classes > 2:\n",
    "    params[\"num_class\"] = num_classes\n",
    "\n",
    "# Обучение\n",
    "model = xgb.train(\n",
    "    params,\n",
    "    dtrain,\n",
    "    num_boost_round=1500,\n",
=======
    "# Обучение с ранней остановкой\n",
    "model = xgb.train(\n",
    "    params,\n",
    "    dtrain,\n",
    "    num_boost_round=1000,\n",
>>>>>>> origin/main
    "    evals=[(dtrain, \"train\"), (dtest, \"test\")],\n",
    "    early_stopping_rounds=50,\n",
    "    verbose_eval=50\n",
    ")"
   ]
  },
  {
<<<<<<< HEAD
   "cell_type": "markdown",
   "id": "2c7ff758-561c-4d0e-92d4-fb6bf341d17a",
   "metadata": {},
   "source": [
    "# Оценка модели"
   ]
  },
  {
   "cell_type": "code",
   "execution_count": 97,
=======
   "cell_type": "code",
   "execution_count": 19,
>>>>>>> origin/main
   "id": "36d4c451-ff9a-4194-bee6-d40c16360e6f",
   "metadata": {},
   "outputs": [
    {
<<<<<<< HEAD
     "name": "stdout",
     "output_type": "stream",
     "text": [
      "\n",
      "Classification Report:\n",
      "              precision    recall  f1-score   support\n",
      "\n",
      "           0       0.87      0.93      0.90       545\n",
      "           1       0.81      0.65      0.72       182\n",
      "           2       0.96      0.97      0.97      2199\n",
      "           3       0.85      0.46      0.60        61\n",
      "\n",
      "    accuracy                           0.93      2987\n",
      "   macro avg       0.87      0.75      0.79      2987\n",
      "weighted avg       0.93      0.93      0.93      2987\n",
      "\n",
      "\n",
      "ROC-AUC (OvR): 0.97\n"
     ]
    },
    {
     "data": {
      "image/png": "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",
      "text/plain": [
       "<Figure size 640x480 with 1 Axes>"
      ]
     },
     "metadata": {},
     "output_type": "display_data"
    }
   ],
   "source": [
    "#Предсказание вероятностей\n",
    "y_pred_proba = model.predict(dtest)\n",
    "\n",
    "#Для бинарной классификации: преобразование вероятностей в метки\n",
    "if num_classes == 2:\n",
    "    y_pred = (y_pred_proba > 0.5).astype(int)\n",
    "#Для многоклассовой классификации: выбор класса с максимальной вероятностью\n",
    "else:\n",
    "    y_pred = np.argmax(y_pred_proba, axis=1)\n",
    "\n",
    "#Убедимся, что y_test имеет правильный формат (не one-hot encoded)\n",
    "if y_test.ndim > 1:\n",
    "    y_test = np.argmax(y_test, axis=1)\n",
    "\n",
    "#Метрики\n",
    "print(\"\\nClassification Report:\")\n",
    "print(classification_report(y_test, y_pred))\n",
    "\n",
    "if num_classes == 2:\n",
    "    print(f\"\\nROC-AUC: {roc_auc_score(y_test, y_pred_proba):.2f}\")\n",
    "else:\n",
    "    #Для многоклассовой задачи: ROC-AUC One-vs-Rest\n",
    "    print(f\"\\nROC-AUC (OvR): {roc_auc_score(y_test, y_pred_proba, multi_class='ovr'):.2f}\")\n",
    "\n",
    "#Важность признаков\n",
=======
     "ename": "NameError",
     "evalue": "name 'model' is not defined",
     "output_type": "error",
     "traceback": [
      "\u001b[1;31m---------------------------------------------------------------------------\u001b[0m",
      "\u001b[1;31mNameError\u001b[0m                                 Traceback (most recent call last)",
      "Cell \u001b[1;32mIn[19], line 2\u001b[0m\n\u001b[0;32m      1\u001b[0m \u001b[38;5;66;03m# Предсказание\u001b[39;00m\n\u001b[1;32m----> 2\u001b[0m y_pred_proba \u001b[38;5;241m=\u001b[39m \u001b[43mmodel\u001b[49m\u001b[38;5;241m.\u001b[39mpredict(dtest)\n\u001b[0;32m      3\u001b[0m y_pred \u001b[38;5;241m=\u001b[39m (y_pred_proba \u001b[38;5;241m>\u001b[39m \u001b[38;5;241m0.5\u001b[39m)\u001b[38;5;241m.\u001b[39mastype(\u001b[38;5;28mint\u001b[39m)\n\u001b[0;32m      5\u001b[0m \u001b[38;5;66;03m# Метрики\u001b[39;00m\n",
      "\u001b[1;31mNameError\u001b[0m: name 'model' is not defined"
     ]
    }
   ],
   "source": [
    "# Предсказание\n",
    "y_pred_proba = model.predict(dtest)\n",
    "y_pred = (y_pred_proba > 0.5).astype(int)\n",
    "\n",
    "# Метрики\n",
    "print(\"\\nClassification Report:\")\n",
    "print(classification_report(y_test, y_pred))\n",
    "\n",
    "print(f\"\\nROC-AUC: {roc_auc_score(y_test, y_pred_proba):.2f}\")\n",
    "\n",
    "# Важность признаков\n",
>>>>>>> origin/main
    "xgb.plot_importance(model, importance_type=\"weight\", max_num_features=10)\n",
    "plt.title(\"Важность признаков (weight)\")\n",
    "plt.show()"
   ]
  },
  {
   "cell_type": "code",
<<<<<<< HEAD
   "execution_count": 100,
   "id": "d7e258cf-d427-42e5-abbb-ee5facd4c113",
   "metadata": {},
   "outputs": [],
   "source": [
    "def predict_url(url: str, model, threshold: float = 0.5) -> str:\n",
    "    \"\"\"\n",
    "    Предсказывает класс URL (вредоносный/доброкачественный).\n",
    "    \n",
    "    Параметры:\n",
    "        url (str): URL для проверки.\n",
    "        model: Обученная модель (XGBoost, RandomForest и т.д.).\n",
    "        threshold (float): Порог классификации (по умолчанию 0.5).\n",
    "    \n",
    "    Возвращает:\n",
    "        str: \"Вредоносный\", \"Доброкачественный\" или сообщение об ошибке.\n",
    "    \"\"\"\n",
    "    try:\n",
    "        # Шаг 1: Извлечение признаков\n",
    "        features = extract_features(url)\n",
    "        if not features:\n",
    "            return \"Ошибка: не удалось извлечь признаки из URL.\"\n",
    "        \n",
    "        # Шаг 2: Преобразование в DataFrame\n",
    "        features_df = pd.DataFrame([features])\n",
    "        \n",
    "        # Шаг 3: Нормализация данных (если использовалась при обучении)\n",
    "        if 'scaler' in globals():  # Проверка, определен ли scaler\n",
    "            features_df = pd.DataFrame(scaler.transform(features_df), columns=features_df.columns)\n",
    "        \n",
    "        # Шаг 4: Предсказание вероятности\n",
    "        if isinstance(model, xgb.Booster):  # Для XGBoost\n",
    "            dtest = xgb.DMatrix(features_df)\n",
    "            proba = model.predict(dtest)[0]\n",
    "        elif hasattr(model, \"predict_proba\"):  # Для RandomForest, LightGBM и т.д.\n",
    "            proba = model.predict_proba(features_df)[0][1]  # Вероятность класса 1\n",
    "        else:\n",
    "            return \"Ошибка: неподдерживаемый тип модели.\"\n",
    "        \n",
    "        # Шаг 5: Классификация с настраиваемым порогом\n",
    "        if proba > threshold:\n",
    "            return \"Вредоносный\"\n",
    "        else:\n",
    "            return \"Доброкачественный\"\n",
    "    \n",
    "    except Exception as e:\n",
    "        return f\"Ошибка предсказания: {str(e)}\"\n",
    "# Примеры\n",
    "#print(predict_url(\"https://web.telegram\"))  # Вредоносный\n",
    "#print(predict_url(\"https://google.com\"))             # Доброкачественный\n",
    "#print(predict_url(\"https://web.telegram.org\"))\n",
    "#print(predict_url(\"http://6gyf.sionas.homelinux.org\"))\n"
   ]
  },
  {
   "cell_type": "code",
   "execution_count": 106,
   "id": "d61c2bdc-402f-4639-b5c3-091e9b748046",
   "metadata": {},
   "outputs": [
    {
     "name": "stdout",
     "output_type": "stream",
     "text": [
      "Ошибка предсказания: [10:55:37] C:\\buildkite-agent\\builds\\buildkite-windows-cpu-autoscaling-group-i-08cbc0333d8d4aae1-1\\xgboost\\xgboost-ci-windows\\src\\learner.cc:764: Check failed: mparam_.num_feature != 0 (0 vs. 0) : 0 feature is supplied.  Are you using raw Booster interface?\n"
     ]
    }
   ],
   "source": [
    "print(predict_url(\"https://safe-site.com\", model, threshold=0.7))  "
   ]
  },
  {
   "cell_type": "code",
   "execution_count": null,
   "id": "e0dd2dbe-aacc-4b10-b3f4-ce203b3c0111",
   "metadata": {},
   "outputs": [],
   "source": []
  },
  {
   "cell_type": "code",
   "execution_count": null,
   "id": "2098bada-28ce-4974-9aa4-1de462569212",
   "metadata": {},
   "outputs": [],
=======
   "execution_count": null,
   "id": "d7e258cf-d427-42e5-abbb-ee5facd4c113",
   "metadata": {},
   "outputs": [],
>>>>>>> origin/main
   "source": []
  }
 ],
 "metadata": {
  "kernelspec": {
   "display_name": "Python 3 (ipykernel)",
   "language": "python",
   "name": "python3"
  },
  "language_info": {
   "codemirror_mode": {
    "name": "ipython",
    "version": 3
   },
   "file_extension": ".py",
   "mimetype": "text/x-python",
   "name": "python",
   "nbconvert_exporter": "python",
   "pygments_lexer": "ipython3",
   "version": "3.9.13"
  }
 },
 "nbformat": 4,
 "nbformat_minor": 5
}
